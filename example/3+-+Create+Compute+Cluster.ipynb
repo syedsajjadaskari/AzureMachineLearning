{
  "cells": [
    {
      "cell_type": "markdown",
      "source": [
        "# 1 - Connect to Azure Machine Learning Workspace"
      ],
      "metadata": {
        "nteract": {
          "transient": {
            "deleting": false
          }
        }
      }
    },
    {
      "cell_type": "code",
      "source": [
        "# Import required libraries\n",
        "\n",
        "from azure.ai.ml import MLClient\n",
        "from azure.identity import DefaultAzureCredential"
      ],
      "outputs": [],
      "execution_count": 1,
      "metadata": {
        "jupyter": {
          "source_hidden": false,
          "outputs_hidden": false
        },
        "nteract": {
          "transient": {
            "deleting": false
          }
        },
        "gather": {
          "logged": 1712875386310
        }
      }
    },
    {
      "cell_type": "code",
      "source": [
        "# Enter details of your AML workspace\n",
        "\n",
        "subscription_id = \"3b57d2fe-08b1-4fe9-b535-f5c4387b9a66\"\n",
        "resource_group = \"azureml-sdkv2-rg\"\n",
        "workspace = \"azureml-sdkv2-ws\""
      ],
      "outputs": [],
      "execution_count": 2,
      "metadata": {
        "jupyter": {
          "source_hidden": false,
          "outputs_hidden": false
        },
        "nteract": {
          "transient": {
            "deleting": false
          }
        },
        "gather": {
          "logged": 1712875404600
        }
      }
    },
    {
      "cell_type": "code",
      "source": [
        "# get a handle to the workspace\n",
        "\n",
        "ml_client = MLClient(DefaultAzureCredential(), subscription_id, resource_group, workspace)\n",
        "print(ml_client)"
      ],
      "outputs": [
        {
          "output_type": "stream",
          "name": "stdout",
          "text": "MLClient(credential=<azure.identity._credentials.default.DefaultAzureCredential object at 0x7ff167b11fc0>,\n         subscription_id=3b57d2fe-08b1-4fe9-b535-f5c4387b9a66,\n         resource_group_name=azureml-sdkv2-rg,\n         workspace_name=azureml-sdkv2-ws)\n"
        }
      ],
      "execution_count": 3,
      "metadata": {
        "jupyter": {
          "source_hidden": false,
          "outputs_hidden": false
        },
        "nteract": {
          "transient": {
            "deleting": false
          }
        },
        "gather": {
          "logged": 1712875412614
        }
      }
    },
    {
      "cell_type": "markdown",
      "source": [
        "# 2 - Create Compute Cluster"
      ],
      "metadata": {
        "nteract": {
          "transient": {
            "deleting": false
          }
        }
      }
    },
    {
      "cell_type": "code",
      "source": [
        "from azure.ai.ml.entities import AmlCompute"
      ],
      "outputs": [],
      "execution_count": 4,
      "metadata": {
        "jupyter": {
          "source_hidden": false,
          "outputs_hidden": false
        },
        "nteract": {
          "transient": {
            "deleting": false
          }
        },
        "gather": {
          "logged": 1712875491407
        }
      }
    },
    {
      "cell_type": "code",
      "source": [
        "cc_name = \"cluster01\"\n",
        "\n",
        "cluster_basic = AmlCompute(\n",
        "    name=cc_name,\n",
        "    type=\"amlcompute\",\n",
        "    size=\"STANDARD_DS3_V2\",\n",
        "    location=\"eastus\",\n",
        "    min_instances=0,\n",
        "    max_instances=2,\n",
        "    idle_time_before_scale_down=60\n",
        ")\n",
        "\n",
        "ml_client.begin_create_or_update(cluster_basic).result()"
      ],
      "outputs": [
        {
          "output_type": "execute_result",
          "execution_count": 5,
          "data": {
            "text/plain": "AmlCompute({'type': 'amlcompute', 'created_on': None, 'provisioning_state': 'Succeeded', 'provisioning_errors': None, 'name': 'cluster01', 'description': None, 'tags': None, 'properties': {}, 'print_as_yaml': True, 'id': '/subscriptions/3b57d2fe-08b1-4fe9-b535-f5c4387b9a66/resourceGroups/azureml-sdkv2-rg/providers/Microsoft.MachineLearningServices/workspaces/azureml-sdkv2-ws/computes/cluster01', 'Resource__source_path': None, 'base_path': '/mnt/batch/tasks/shared/LS_root/mounts/clusters/aml-compute01/code/Users/vijaygadhave199', 'creation_context': None, 'serialize': <msrest.serialization.Serializer object at 0x7ff1648c8040>, 'resource_id': None, 'location': 'eastus', 'size': 'STANDARD_DS3_V2', 'min_instances': 0, 'max_instances': 2, 'idle_time_before_scale_down': 60.0, 'identity': None, 'ssh_public_access_enabled': True, 'ssh_settings': None, 'network_settings': <azure.ai.ml.entities._compute.compute.NetworkSettings object at 0x7ff1648c8190>, 'tier': 'dedicated', 'enable_node_public_ip': True, 'subnet': None})"
          },
          "metadata": {}
        }
      ],
      "execution_count": 5,
      "metadata": {
        "jupyter": {
          "source_hidden": false,
          "outputs_hidden": false
        },
        "nteract": {
          "transient": {
            "deleting": false
          }
        },
        "gather": {
          "logged": 1712875741572
        }
      }
    },
    {
      "cell_type": "markdown",
      "source": [
        "# 3 - Interact with Compute Cluster"
      ],
      "metadata": {
        "nteract": {
          "transient": {
            "deleting": false
          }
        }
      }
    },
    {
      "cell_type": "code",
      "source": [
        "from azure.ai.ml.entities import AmlCompute"
      ],
      "outputs": [],
      "execution_count": 7,
      "metadata": {
        "jupyter": {
          "source_hidden": false,
          "outputs_hidden": false
        },
        "nteract": {
          "transient": {
            "deleting": false
          }
        },
        "gather": {
          "logged": 1712875780388
        }
      }
    },
    {
      "cell_type": "code",
      "source": [
        "# get compute cluster\n",
        "cc_state = ml_client.compute.get(cc_name)\n",
        "print(cc_state)"
      ],
      "outputs": [
        {
          "output_type": "stream",
          "name": "stdout",
          "text": "enable_node_public_ip: true\nid: /subscriptions/3b57d2fe-08b1-4fe9-b535-f5c4387b9a66/resourceGroups/azureml-sdkv2-rg/providers/Microsoft.MachineLearningServices/workspaces/azureml-sdkv2-ws/computes/cluster01\nidle_time_before_scale_down: 60\nlocation: eastus\nmax_instances: 2\nmin_instances: 0\nname: cluster01\nnetwork_settings: {}\nprovisioning_state: Succeeded\nsize: STANDARD_DS3_V2\nssh_public_access_enabled: true\ntier: dedicated\ntype: amlcompute\n\n"
        }
      ],
      "execution_count": 8,
      "metadata": {
        "jupyter": {
          "source_hidden": false,
          "outputs_hidden": false
        },
        "nteract": {
          "transient": {
            "deleting": false
          }
        },
        "gather": {
          "logged": 1712875793370
        }
      }
    },
    {
      "cell_type": "code",
      "source": [
        "# Stop compute cluster\n",
        "ml_client.compute.begin_stop(cc_name).wait()"
      ],
      "outputs": [],
      "execution_count": null,
      "metadata": {
        "jupyter": {
          "source_hidden": false,
          "outputs_hidden": false
        },
        "nteract": {
          "transient": {
            "deleting": false
          }
        }
      }
    },
    {
      "cell_type": "code",
      "source": [
        "# Start compute cluster\n",
        "ml_client.compute.begin_start(cc_name).wait()"
      ],
      "outputs": [],
      "execution_count": null,
      "metadata": {
        "jupyter": {
          "source_hidden": false,
          "outputs_hidden": false
        },
        "nteract": {
          "transient": {
            "deleting": false
          }
        }
      }
    },
    {
      "cell_type": "code",
      "source": [
        "# Restart compute cluster\n",
        "ml_client.compute.begin_restart(cc_name).wait()"
      ],
      "outputs": [],
      "execution_count": null,
      "metadata": {
        "jupyter": {
          "source_hidden": false,
          "outputs_hidden": false
        },
        "nteract": {
          "transient": {
            "deleting": false
          }
        }
      }
    },
    {
      "cell_type": "code",
      "source": [
        "# Delete compute cluster\n",
        "ml_client.compute.begin_delete(cc_name).wait()"
      ],
      "outputs": [],
      "execution_count": 9,
      "metadata": {
        "jupyter": {
          "source_hidden": false,
          "outputs_hidden": false
        },
        "nteract": {
          "transient": {
            "deleting": false
          }
        },
        "gather": {
          "logged": 1712875954353
        }
      }
    }
  ],
  "metadata": {
    "kernelspec": {
      "name": "python310-sdkv2",
      "language": "python",
      "display_name": "Python 3.10 - SDK v2"
    },
    "language_info": {
      "name": "python",
      "version": "3.10.11",
      "mimetype": "text/x-python",
      "codemirror_mode": {
        "name": "ipython",
        "version": 3
      },
      "pygments_lexer": "ipython3",
      "nbconvert_exporter": "python",
      "file_extension": ".py"
    },
    "microsoft": {
      "ms_spell_check": {
        "ms_spell_check_language": "en"
      }
    },
    "kernel_info": {
      "name": "python310-sdkv2"
    },
    "nteract": {
      "version": "nteract-front-end@1.0.0"
    }
  },
  "nbformat": 4,
  "nbformat_minor": 2
}