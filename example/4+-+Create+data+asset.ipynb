{
  "cells": [
    {
      "cell_type": "markdown",
      "source": [
        "# 1 - Create a data asset: File type"
      ],
      "metadata": {
        "nteract": {
          "transient": {
            "deleting": false
          }
        }
      }
    },
    {
      "cell_type": "code",
      "source": [
        "# Connect to Azure Machine Learning Workspace\n",
        "\n",
        "\n",
        "# Import required libraries\n",
        "from azure.ai.ml import MLClient\n",
        "from azure.identity import DefaultAzureCredential\n",
        "from azure.ai.ml.entities import Data\n",
        "from azure.ai.ml.constants import AssetTypes\n",
        "\n",
        "# details of azure ML workspace\n",
        "subscription_id = \"3b57d2fe-08b1-4fe9-b535-f5c4387b9a66\"\n",
        "resource_group = \"azureml-sdkv2-rg\"\n",
        "workspace = \"azureml-sdkv2-ws\"\n",
        "\n",
        "# get a handle to the workspace\n",
        "ml_client = MLClient(DefaultAzureCredential(), subscription_id, resource_group, workspace)\n",
        "print(ml_client)"
      ],
      "outputs": [
        {
          "output_type": "stream",
          "name": "stdout",
          "text": "MLClient(credential=<azure.identity._credentials.default.DefaultAzureCredential object at 0x7f3cceee1000>,\n         subscription_id=3b57d2fe-08b1-4fe9-b535-f5c4387b9a66,\n         resource_group_name=azureml-sdkv2-rg,\n         workspace_name=azureml-sdkv2-ws)\n"
        }
      ],
      "execution_count": 2,
      "metadata": {
        "jupyter": {
          "source_hidden": false,
          "outputs_hidden": false
        },
        "nteract": {
          "transient": {
            "deleting": false
          }
        },
        "gather": {
          "logged": 1712950494338
        }
      }
    },
    {
      "cell_type": "code",
      "source": [
        "VERSION = \"1\"\n",
        "path = \"azureml://datastores/datastore_01/paths/data/income_data.csv\"\n",
        "\n",
        "# Define data asset object\n",
        "\n",
        "my_data = Data(\n",
        "    path=path,\n",
        "    type=AssetTypes.URI_FILE,\n",
        "    description=\"Creating data asset using pythin sdk v2\",\n",
        "    name=\"income-data1\",\n",
        "    version=VERSION\n",
        ")\n",
        "\n",
        "# create data asset in workspace\n",
        "ml_client.data.create_or_update(my_data)"
      ],
      "outputs": [
        {
          "output_type": "execute_result",
          "execution_count": 3,
          "data": {
            "text/plain": "Data({'skip_validation': False, 'mltable_schema_url': None, 'referenced_uris': None, 'type': 'uri_file', 'is_anonymous': False, 'auto_increment_version': False, 'auto_delete_setting': None, 'name': 'income-data1', 'description': 'Creating data asset using pythin sdk v2', 'tags': {}, 'properties': {}, 'print_as_yaml': True, 'id': '/subscriptions/3b57d2fe-08b1-4fe9-b535-f5c4387b9a66/resourceGroups/azureml-sdkv2-rg/providers/Microsoft.MachineLearningServices/workspaces/azureml-sdkv2-ws/data/income-data1/versions/1', 'Resource__source_path': None, 'base_path': '/mnt/batch/tasks/shared/LS_root/mounts/clusters/compute-instance01/code/Users/vijaygadhave199', 'creation_context': <azure.ai.ml.entities._system_data.SystemData object at 0x7f3cc0565f00>, 'serialize': <msrest.serialization.Serializer object at 0x7f3cc0565d80>, 'version': '1', 'latest_version': None, 'path': 'azureml://subscriptions/3b57d2fe-08b1-4fe9-b535-f5c4387b9a66/resourcegroups/azureml-sdkv2-rg/workspaces/azureml-sdkv2-ws/datastores/datastore_01/paths/data/income_data.csv', 'datastore': None})"
          },
          "metadata": {}
        }
      ],
      "execution_count": 3,
      "metadata": {
        "jupyter": {
          "source_hidden": false,
          "outputs_hidden": false
        },
        "nteract": {
          "transient": {
            "deleting": false
          }
        },
        "gather": {
          "logged": 1712950780689
        }
      }
    },
    {
      "cell_type": "code",
      "source": [
        "# Consume the data asset\n",
        "\n",
        "import pandas as pd\n",
        "from azure.ai.ml import MLClient\n",
        "from azure.identity import DefaultAzureCredential\n",
        "\n",
        "ml_client = MLClient.from_config(credential=DefaultAzureCredential())\n",
        "data_asset = ml_client.data.get(\"income-data1\", version=\"1\")\n",
        "\n",
        "df = pd.read_csv(data_asset.path)\n",
        "df"
      ],
      "outputs": [
        {
          "output_type": "stream",
          "name": "stderr",
          "text": "Found the config file in: /config.json\nTransient server side error 429: {\"itemsReceived\":1,\"itemsAccepted\":0,\"appId\":null,\"errors\":[{\"index\":0,\"statusCode\":429,\"message\":\"Too much data\"}]}. Retrying.\n"
        },
        {
          "output_type": "execute_result",
          "execution_count": 4,
          "data": {
            "text/plain": "    age         workclass  fnlwgt     education  education.num  \\\n0    33           Private  194901     Assoc-voc             11   \n1    43           Private  155106    Assoc-acdm             12   \n2    50      Self-emp-inc  121441          11th              7   \n3    44           Private  162028  Some-college             10   \n4    51  Self-emp-not-inc  160724     Bachelors             13   \n5    41           Private  132222   Prof-school             15   \n6    60      Self-emp-inc  226355     Assoc-voc             11   \n7    37           Private  329980       Masters             14   \n8    55      Self-emp-inc  124137   Prof-school             15   \n9    39      Self-emp-inc  329980     Bachelors             13   \n10   42      Self-emp-inc  187702   Prof-school             15   \n11   49           Private  199029     Bachelors             13   \n12   47  Self-emp-not-inc  145290       HS-grad              9   \n13   41         Local-gov  297248   Prof-school             15   \n14   55      Self-emp-inc  227856     Bachelors             13   \n15   39           Private  179731       Masters             14   \n16   42           Private  154374     Bachelors             13   \n17   41                 ?   27187     Assoc-voc             11   \n18   46           Private  326857       Masters             14   \n19   40           Private  160369       Masters             14   \n20   32           Private  396745     Bachelors             13   \n21   41      Self-emp-inc  151089  Some-college             10   \n22   60      Self-emp-inc  336188   Prof-school             15   \n23   31           Private  279015       Masters             14   \n24   58  Self-emp-not-inc   43221  Some-college             10   \n25   37      Self-emp-inc   30529     Bachelors             13   \n26   44  Self-emp-not-inc  201742     Bachelors             13   \n27   39  Self-emp-not-inc  218490   Prof-school             15   \n28   43       Federal-gov  156996   Prof-school             15   \n29   55      Self-emp-inc  298449     Bachelors             13   \n30   44      Self-emp-inc  191712       Masters             14   \n31   39           Private  198654   Prof-school             15   \n32   46  Self-emp-not-inc  102308     Bachelors             13   \n33   39           Private  348521  Some-college             10   \n34   62      Self-emp-inc   56248     Bachelors             13   \n35   31  Self-emp-not-inc  252752       HS-grad              9   \n36   46           Private  192963     Bachelors             13   \n37   46  Self-emp-not-inc  198759   Prof-school             15   \n38   39      Self-emp-inc  143123     Assoc-voc             11   \n39   39           Private  237713   Prof-school             15   \n40   59           Private   81929     Doctorate             16   \n41   50      Self-emp-inc  167793   Prof-school             15   \n42   46           Private  456062     Doctorate             16   \n43   53  Self-emp-not-inc  105478     Bachelors             13   \n44   50  Self-emp-not-inc   42402   Prof-school             15   \n45   41      Self-emp-inc  114580   Prof-school             15   \n46   36           Private  346478     Bachelors             13   \n47   38           Private  187870   Prof-school             15   \n48   54           Private   35576  Some-college             10   \n49   50           Private  102346     Bachelors             13   \n\n        marital.status         occupation    relationship                race  \\\n0            Separated       Craft-repair   Not-in-family               White   \n1             Divorced       Craft-repair   Not-in-family               White   \n2        Never-married    Exec-managerial  Other-relative               White   \n3   Married-civ-spouse       Adm-clerical            Wife               White   \n4   Married-civ-spouse              Sales         Husband  Asian-Pac-Islander   \n5   Married-civ-spouse     Prof-specialty         Husband               White   \n6   Married-civ-spouse  Machine-op-inspct         Husband               White   \n7   Married-civ-spouse    Exec-managerial         Husband               White   \n8   Married-civ-spouse     Prof-specialty         Husband               White   \n9   Married-civ-spouse              Sales         Husband               White   \n10  Married-civ-spouse     Prof-specialty         Husband               White   \n11  Married-civ-spouse              Sales         Husband               White   \n12  Married-civ-spouse    Exec-managerial         Husband               White   \n13  Married-civ-spouse     Prof-specialty         Husband               White   \n14  Married-civ-spouse    Exec-managerial         Husband               White   \n15  Married-civ-spouse    Exec-managerial            Wife               White   \n16  Married-civ-spouse    Exec-managerial         Husband               White   \n17  Married-civ-spouse                  ?         Husband               White   \n18  Married-civ-spouse              Sales         Husband               White   \n19  Married-civ-spouse    Exec-managerial         Husband               White   \n20  Married-civ-spouse     Prof-specialty         Husband               White   \n21  Married-civ-spouse    Exec-managerial         Husband               White   \n22  Married-civ-spouse     Prof-specialty         Husband               White   \n23  Married-civ-spouse    Exec-managerial         Husband               White   \n24  Married-civ-spouse    Farming-fishing         Husband               White   \n25  Married-civ-spouse              Sales         Husband               White   \n26  Married-civ-spouse    Exec-managerial         Husband               White   \n27  Married-civ-spouse     Prof-specialty         Husband               White   \n28  Married-civ-spouse     Prof-specialty         Husband  Asian-Pac-Islander   \n29  Married-civ-spouse    Exec-managerial         Husband               White   \n30  Married-civ-spouse     Prof-specialty         Husband               White   \n31  Married-civ-spouse     Prof-specialty         Husband  Asian-Pac-Islander   \n32  Married-civ-spouse              Sales         Husband               White   \n33  Married-civ-spouse    Farming-fishing         Husband               White   \n34  Married-civ-spouse    Farming-fishing         Husband               White   \n35  Married-civ-spouse      Other-service            Wife               White   \n36  Married-civ-spouse       Adm-clerical         Husband  Asian-Pac-Islander   \n37  Married-civ-spouse     Prof-specialty         Husband               White   \n38  Married-civ-spouse       Craft-repair         Husband               White   \n39  Married-civ-spouse              Sales         Husband               White   \n40  Married-civ-spouse     Prof-specialty         Husband               White   \n41  Married-civ-spouse     Prof-specialty         Husband               White   \n42  Married-civ-spouse     Prof-specialty         Husband               White   \n43  Married-civ-spouse    Exec-managerial         Husband               White   \n44  Married-civ-spouse     Prof-specialty         Husband               White   \n45  Married-civ-spouse    Exec-managerial            Wife               White   \n46  Married-civ-spouse              Sales         Husband               White   \n47  Married-civ-spouse     Prof-specialty         Husband               White   \n48  Married-civ-spouse              Sales         Husband               White   \n49  Married-civ-spouse    Exec-managerial            Wife               White   \n\n       sex  capital.gain  capital.loss  hours.per.week native.country income  \n0     Male             0          2444              42  United-States   >50K  \n1     Male             0          2444              70  United-States   >50K  \n2     Male             0          2444              40  United-States   >50K  \n3   Female             0          2415               6  United-States   >50K  \n4     Male             0          2415              40          China   >50K  \n5     Male             0          2415              40  United-States   >50K  \n6     Male             0          2415              70              ?   >50K  \n7     Male             0          2415              60  United-States   >50K  \n8     Male             0          2415              35         Greece   >50K  \n9     Male             0          2415              60  United-States   >50K  \n10    Male             0          2415              60  United-States   >50K  \n11    Male             0          2415              55  United-States   >50K  \n12    Male             0          2415              50  United-States   >50K  \n13    Male             0          2415              45  United-States   >50K  \n14    Male             0          2415              50  United-States   >50K  \n15  Female             0          2415              65  United-States   >50K  \n16    Male             0          2415              60  United-States   >50K  \n17    Male             0          2415              12  United-States   >50K  \n18    Male             0          2415              65  United-States   >50K  \n19    Male             0          2415              45  United-States   >50K  \n20    Male             0          2415              48  United-States   >50K  \n21    Male             0          2415              55  United-States   >50K  \n22    Male             0          2415              80  United-States   >50K  \n23    Male             0          2415              70         Taiwan   >50K  \n24    Male             0          2415              40  United-States   >50K  \n25    Male             0          2415              50  United-States   >50K  \n26    Male             0          2415              50  United-States   >50K  \n27    Male             0          2415              50              ?   >50K  \n28    Male             0          2415              55              ?   >50K  \n29    Male             0          2415              50  United-States   >50K  \n30    Male             0          2415              55  United-States   >50K  \n31    Male             0          2415              67          India   >50K  \n32    Male             0          2415              40  United-States   >50K  \n33    Male             0          2415              99  United-States   >50K  \n34    Male             0          2415              60  United-States   >50K  \n35  Female             0          2415              40  United-States   >50K  \n36    Male             0          2415              35    Philippines   >50K  \n37    Male             0          2415              80  United-States   >50K  \n38    Male             0          2415              40  United-States   >50K  \n39    Male             0          2415              99  United-States   >50K  \n40    Male             0          2415              45  United-States   >50K  \n41    Male             0          2415              60  United-States   >50K  \n42    Male             0          2415              55  United-States   >50K  \n43    Male             0          2415              40  United-States   >50K  \n44    Male             0          2415              30  United-States   >50K  \n45  Female             0          2415              55  United-States   >50K  \n46    Male             0          2415              45  United-States   >50K  \n47    Male             0          2415              90  United-States   >50K  \n48    Male             0          2415              50  United-States   >50K  \n49  Female             0          2415              20  United-States   >50K  ",
            "text/html": "<div>\n<style scoped>\n    .dataframe tbody tr th:only-of-type {\n        vertical-align: middle;\n    }\n\n    .dataframe tbody tr th {\n        vertical-align: top;\n    }\n\n    .dataframe thead th {\n        text-align: right;\n    }\n</style>\n<table border=\"1\" class=\"dataframe\">\n  <thead>\n    <tr style=\"text-align: right;\">\n      <th></th>\n      <th>age</th>\n      <th>workclass</th>\n      <th>fnlwgt</th>\n      <th>education</th>\n      <th>education.num</th>\n      <th>marital.status</th>\n      <th>occupation</th>\n      <th>relationship</th>\n      <th>race</th>\n      <th>sex</th>\n      <th>capital.gain</th>\n      <th>capital.loss</th>\n      <th>hours.per.week</th>\n      <th>native.country</th>\n      <th>income</th>\n    </tr>\n  </thead>\n  <tbody>\n    <tr>\n      <th>0</th>\n      <td>33</td>\n      <td>Private</td>\n      <td>194901</td>\n      <td>Assoc-voc</td>\n      <td>11</td>\n      <td>Separated</td>\n      <td>Craft-repair</td>\n      <td>Not-in-family</td>\n      <td>White</td>\n      <td>Male</td>\n      <td>0</td>\n      <td>2444</td>\n      <td>42</td>\n      <td>United-States</td>\n      <td>&gt;50K</td>\n    </tr>\n    <tr>\n      <th>1</th>\n      <td>43</td>\n      <td>Private</td>\n      <td>155106</td>\n      <td>Assoc-acdm</td>\n      <td>12</td>\n      <td>Divorced</td>\n      <td>Craft-repair</td>\n      <td>Not-in-family</td>\n      <td>White</td>\n      <td>Male</td>\n      <td>0</td>\n      <td>2444</td>\n      <td>70</td>\n      <td>United-States</td>\n      <td>&gt;50K</td>\n    </tr>\n    <tr>\n      <th>2</th>\n      <td>50</td>\n      <td>Self-emp-inc</td>\n      <td>121441</td>\n      <td>11th</td>\n      <td>7</td>\n      <td>Never-married</td>\n      <td>Exec-managerial</td>\n      <td>Other-relative</td>\n      <td>White</td>\n      <td>Male</td>\n      <td>0</td>\n      <td>2444</td>\n      <td>40</td>\n      <td>United-States</td>\n      <td>&gt;50K</td>\n    </tr>\n    <tr>\n      <th>3</th>\n      <td>44</td>\n      <td>Private</td>\n      <td>162028</td>\n      <td>Some-college</td>\n      <td>10</td>\n      <td>Married-civ-spouse</td>\n      <td>Adm-clerical</td>\n      <td>Wife</td>\n      <td>White</td>\n      <td>Female</td>\n      <td>0</td>\n      <td>2415</td>\n      <td>6</td>\n      <td>United-States</td>\n      <td>&gt;50K</td>\n    </tr>\n    <tr>\n      <th>4</th>\n      <td>51</td>\n      <td>Self-emp-not-inc</td>\n      <td>160724</td>\n      <td>Bachelors</td>\n      <td>13</td>\n      <td>Married-civ-spouse</td>\n      <td>Sales</td>\n      <td>Husband</td>\n      <td>Asian-Pac-Islander</td>\n      <td>Male</td>\n      <td>0</td>\n      <td>2415</td>\n      <td>40</td>\n      <td>China</td>\n      <td>&gt;50K</td>\n    </tr>\n    <tr>\n      <th>5</th>\n      <td>41</td>\n      <td>Private</td>\n      <td>132222</td>\n      <td>Prof-school</td>\n      <td>15</td>\n      <td>Married-civ-spouse</td>\n      <td>Prof-specialty</td>\n      <td>Husband</td>\n      <td>White</td>\n      <td>Male</td>\n      <td>0</td>\n      <td>2415</td>\n      <td>40</td>\n      <td>United-States</td>\n      <td>&gt;50K</td>\n    </tr>\n    <tr>\n      <th>6</th>\n      <td>60</td>\n      <td>Self-emp-inc</td>\n      <td>226355</td>\n      <td>Assoc-voc</td>\n      <td>11</td>\n      <td>Married-civ-spouse</td>\n      <td>Machine-op-inspct</td>\n      <td>Husband</td>\n      <td>White</td>\n      <td>Male</td>\n      <td>0</td>\n      <td>2415</td>\n      <td>70</td>\n      <td>?</td>\n      <td>&gt;50K</td>\n    </tr>\n    <tr>\n      <th>7</th>\n      <td>37</td>\n      <td>Private</td>\n      <td>329980</td>\n      <td>Masters</td>\n      <td>14</td>\n      <td>Married-civ-spouse</td>\n      <td>Exec-managerial</td>\n      <td>Husband</td>\n      <td>White</td>\n      <td>Male</td>\n      <td>0</td>\n      <td>2415</td>\n      <td>60</td>\n      <td>United-States</td>\n      <td>&gt;50K</td>\n    </tr>\n    <tr>\n      <th>8</th>\n      <td>55</td>\n      <td>Self-emp-inc</td>\n      <td>124137</td>\n      <td>Prof-school</td>\n      <td>15</td>\n      <td>Married-civ-spouse</td>\n      <td>Prof-specialty</td>\n      <td>Husband</td>\n      <td>White</td>\n      <td>Male</td>\n      <td>0</td>\n      <td>2415</td>\n      <td>35</td>\n      <td>Greece</td>\n      <td>&gt;50K</td>\n    </tr>\n    <tr>\n      <th>9</th>\n      <td>39</td>\n      <td>Self-emp-inc</td>\n      <td>329980</td>\n      <td>Bachelors</td>\n      <td>13</td>\n      <td>Married-civ-spouse</td>\n      <td>Sales</td>\n      <td>Husband</td>\n      <td>White</td>\n      <td>Male</td>\n      <td>0</td>\n      <td>2415</td>\n      <td>60</td>\n      <td>United-States</td>\n      <td>&gt;50K</td>\n    </tr>\n    <tr>\n      <th>10</th>\n      <td>42</td>\n      <td>Self-emp-inc</td>\n      <td>187702</td>\n      <td>Prof-school</td>\n      <td>15</td>\n      <td>Married-civ-spouse</td>\n      <td>Prof-specialty</td>\n      <td>Husband</td>\n      <td>White</td>\n      <td>Male</td>\n      <td>0</td>\n      <td>2415</td>\n      <td>60</td>\n      <td>United-States</td>\n      <td>&gt;50K</td>\n    </tr>\n    <tr>\n      <th>11</th>\n      <td>49</td>\n      <td>Private</td>\n      <td>199029</td>\n      <td>Bachelors</td>\n      <td>13</td>\n      <td>Married-civ-spouse</td>\n      <td>Sales</td>\n      <td>Husband</td>\n      <td>White</td>\n      <td>Male</td>\n      <td>0</td>\n      <td>2415</td>\n      <td>55</td>\n      <td>United-States</td>\n      <td>&gt;50K</td>\n    </tr>\n    <tr>\n      <th>12</th>\n      <td>47</td>\n      <td>Self-emp-not-inc</td>\n      <td>145290</td>\n      <td>HS-grad</td>\n      <td>9</td>\n      <td>Married-civ-spouse</td>\n      <td>Exec-managerial</td>\n      <td>Husband</td>\n      <td>White</td>\n      <td>Male</td>\n      <td>0</td>\n      <td>2415</td>\n      <td>50</td>\n      <td>United-States</td>\n      <td>&gt;50K</td>\n    </tr>\n    <tr>\n      <th>13</th>\n      <td>41</td>\n      <td>Local-gov</td>\n      <td>297248</td>\n      <td>Prof-school</td>\n      <td>15</td>\n      <td>Married-civ-spouse</td>\n      <td>Prof-specialty</td>\n      <td>Husband</td>\n      <td>White</td>\n      <td>Male</td>\n      <td>0</td>\n      <td>2415</td>\n      <td>45</td>\n      <td>United-States</td>\n      <td>&gt;50K</td>\n    </tr>\n    <tr>\n      <th>14</th>\n      <td>55</td>\n      <td>Self-emp-inc</td>\n      <td>227856</td>\n      <td>Bachelors</td>\n      <td>13</td>\n      <td>Married-civ-spouse</td>\n      <td>Exec-managerial</td>\n      <td>Husband</td>\n      <td>White</td>\n      <td>Male</td>\n      <td>0</td>\n      <td>2415</td>\n      <td>50</td>\n      <td>United-States</td>\n      <td>&gt;50K</td>\n    </tr>\n    <tr>\n      <th>15</th>\n      <td>39</td>\n      <td>Private</td>\n      <td>179731</td>\n      <td>Masters</td>\n      <td>14</td>\n      <td>Married-civ-spouse</td>\n      <td>Exec-managerial</td>\n      <td>Wife</td>\n      <td>White</td>\n      <td>Female</td>\n      <td>0</td>\n      <td>2415</td>\n      <td>65</td>\n      <td>United-States</td>\n      <td>&gt;50K</td>\n    </tr>\n    <tr>\n      <th>16</th>\n      <td>42</td>\n      <td>Private</td>\n      <td>154374</td>\n      <td>Bachelors</td>\n      <td>13</td>\n      <td>Married-civ-spouse</td>\n      <td>Exec-managerial</td>\n      <td>Husband</td>\n      <td>White</td>\n      <td>Male</td>\n      <td>0</td>\n      <td>2415</td>\n      <td>60</td>\n      <td>United-States</td>\n      <td>&gt;50K</td>\n    </tr>\n    <tr>\n      <th>17</th>\n      <td>41</td>\n      <td>?</td>\n      <td>27187</td>\n      <td>Assoc-voc</td>\n      <td>11</td>\n      <td>Married-civ-spouse</td>\n      <td>?</td>\n      <td>Husband</td>\n      <td>White</td>\n      <td>Male</td>\n      <td>0</td>\n      <td>2415</td>\n      <td>12</td>\n      <td>United-States</td>\n      <td>&gt;50K</td>\n    </tr>\n    <tr>\n      <th>18</th>\n      <td>46</td>\n      <td>Private</td>\n      <td>326857</td>\n      <td>Masters</td>\n      <td>14</td>\n      <td>Married-civ-spouse</td>\n      <td>Sales</td>\n      <td>Husband</td>\n      <td>White</td>\n      <td>Male</td>\n      <td>0</td>\n      <td>2415</td>\n      <td>65</td>\n      <td>United-States</td>\n      <td>&gt;50K</td>\n    </tr>\n    <tr>\n      <th>19</th>\n      <td>40</td>\n      <td>Private</td>\n      <td>160369</td>\n      <td>Masters</td>\n      <td>14</td>\n      <td>Married-civ-spouse</td>\n      <td>Exec-managerial</td>\n      <td>Husband</td>\n      <td>White</td>\n      <td>Male</td>\n      <td>0</td>\n      <td>2415</td>\n      <td>45</td>\n      <td>United-States</td>\n      <td>&gt;50K</td>\n    </tr>\n    <tr>\n      <th>20</th>\n      <td>32</td>\n      <td>Private</td>\n      <td>396745</td>\n      <td>Bachelors</td>\n      <td>13</td>\n      <td>Married-civ-spouse</td>\n      <td>Prof-specialty</td>\n      <td>Husband</td>\n      <td>White</td>\n      <td>Male</td>\n      <td>0</td>\n      <td>2415</td>\n      <td>48</td>\n      <td>United-States</td>\n      <td>&gt;50K</td>\n    </tr>\n    <tr>\n      <th>21</th>\n      <td>41</td>\n      <td>Self-emp-inc</td>\n      <td>151089</td>\n      <td>Some-college</td>\n      <td>10</td>\n      <td>Married-civ-spouse</td>\n      <td>Exec-managerial</td>\n      <td>Husband</td>\n      <td>White</td>\n      <td>Male</td>\n      <td>0</td>\n      <td>2415</td>\n      <td>55</td>\n      <td>United-States</td>\n      <td>&gt;50K</td>\n    </tr>\n    <tr>\n      <th>22</th>\n      <td>60</td>\n      <td>Self-emp-inc</td>\n      <td>336188</td>\n      <td>Prof-school</td>\n      <td>15</td>\n      <td>Married-civ-spouse</td>\n      <td>Prof-specialty</td>\n      <td>Husband</td>\n      <td>White</td>\n      <td>Male</td>\n      <td>0</td>\n      <td>2415</td>\n      <td>80</td>\n      <td>United-States</td>\n      <td>&gt;50K</td>\n    </tr>\n    <tr>\n      <th>23</th>\n      <td>31</td>\n      <td>Private</td>\n      <td>279015</td>\n      <td>Masters</td>\n      <td>14</td>\n      <td>Married-civ-spouse</td>\n      <td>Exec-managerial</td>\n      <td>Husband</td>\n      <td>White</td>\n      <td>Male</td>\n      <td>0</td>\n      <td>2415</td>\n      <td>70</td>\n      <td>Taiwan</td>\n      <td>&gt;50K</td>\n    </tr>\n    <tr>\n      <th>24</th>\n      <td>58</td>\n      <td>Self-emp-not-inc</td>\n      <td>43221</td>\n      <td>Some-college</td>\n      <td>10</td>\n      <td>Married-civ-spouse</td>\n      <td>Farming-fishing</td>\n      <td>Husband</td>\n      <td>White</td>\n      <td>Male</td>\n      <td>0</td>\n      <td>2415</td>\n      <td>40</td>\n      <td>United-States</td>\n      <td>&gt;50K</td>\n    </tr>\n    <tr>\n      <th>25</th>\n      <td>37</td>\n      <td>Self-emp-inc</td>\n      <td>30529</td>\n      <td>Bachelors</td>\n      <td>13</td>\n      <td>Married-civ-spouse</td>\n      <td>Sales</td>\n      <td>Husband</td>\n      <td>White</td>\n      <td>Male</td>\n      <td>0</td>\n      <td>2415</td>\n      <td>50</td>\n      <td>United-States</td>\n      <td>&gt;50K</td>\n    </tr>\n    <tr>\n      <th>26</th>\n      <td>44</td>\n      <td>Self-emp-not-inc</td>\n      <td>201742</td>\n      <td>Bachelors</td>\n      <td>13</td>\n      <td>Married-civ-spouse</td>\n      <td>Exec-managerial</td>\n      <td>Husband</td>\n      <td>White</td>\n      <td>Male</td>\n      <td>0</td>\n      <td>2415</td>\n      <td>50</td>\n      <td>United-States</td>\n      <td>&gt;50K</td>\n    </tr>\n    <tr>\n      <th>27</th>\n      <td>39</td>\n      <td>Self-emp-not-inc</td>\n      <td>218490</td>\n      <td>Prof-school</td>\n      <td>15</td>\n      <td>Married-civ-spouse</td>\n      <td>Prof-specialty</td>\n      <td>Husband</td>\n      <td>White</td>\n      <td>Male</td>\n      <td>0</td>\n      <td>2415</td>\n      <td>50</td>\n      <td>?</td>\n      <td>&gt;50K</td>\n    </tr>\n    <tr>\n      <th>28</th>\n      <td>43</td>\n      <td>Federal-gov</td>\n      <td>156996</td>\n      <td>Prof-school</td>\n      <td>15</td>\n      <td>Married-civ-spouse</td>\n      <td>Prof-specialty</td>\n      <td>Husband</td>\n      <td>Asian-Pac-Islander</td>\n      <td>Male</td>\n      <td>0</td>\n      <td>2415</td>\n      <td>55</td>\n      <td>?</td>\n      <td>&gt;50K</td>\n    </tr>\n    <tr>\n      <th>29</th>\n      <td>55</td>\n      <td>Self-emp-inc</td>\n      <td>298449</td>\n      <td>Bachelors</td>\n      <td>13</td>\n      <td>Married-civ-spouse</td>\n      <td>Exec-managerial</td>\n      <td>Husband</td>\n      <td>White</td>\n      <td>Male</td>\n      <td>0</td>\n      <td>2415</td>\n      <td>50</td>\n      <td>United-States</td>\n      <td>&gt;50K</td>\n    </tr>\n    <tr>\n      <th>30</th>\n      <td>44</td>\n      <td>Self-emp-inc</td>\n      <td>191712</td>\n      <td>Masters</td>\n      <td>14</td>\n      <td>Married-civ-spouse</td>\n      <td>Prof-specialty</td>\n      <td>Husband</td>\n      <td>White</td>\n      <td>Male</td>\n      <td>0</td>\n      <td>2415</td>\n      <td>55</td>\n      <td>United-States</td>\n      <td>&gt;50K</td>\n    </tr>\n    <tr>\n      <th>31</th>\n      <td>39</td>\n      <td>Private</td>\n      <td>198654</td>\n      <td>Prof-school</td>\n      <td>15</td>\n      <td>Married-civ-spouse</td>\n      <td>Prof-specialty</td>\n      <td>Husband</td>\n      <td>Asian-Pac-Islander</td>\n      <td>Male</td>\n      <td>0</td>\n      <td>2415</td>\n      <td>67</td>\n      <td>India</td>\n      <td>&gt;50K</td>\n    </tr>\n    <tr>\n      <th>32</th>\n      <td>46</td>\n      <td>Self-emp-not-inc</td>\n      <td>102308</td>\n      <td>Bachelors</td>\n      <td>13</td>\n      <td>Married-civ-spouse</td>\n      <td>Sales</td>\n      <td>Husband</td>\n      <td>White</td>\n      <td>Male</td>\n      <td>0</td>\n      <td>2415</td>\n      <td>40</td>\n      <td>United-States</td>\n      <td>&gt;50K</td>\n    </tr>\n    <tr>\n      <th>33</th>\n      <td>39</td>\n      <td>Private</td>\n      <td>348521</td>\n      <td>Some-college</td>\n      <td>10</td>\n      <td>Married-civ-spouse</td>\n      <td>Farming-fishing</td>\n      <td>Husband</td>\n      <td>White</td>\n      <td>Male</td>\n      <td>0</td>\n      <td>2415</td>\n      <td>99</td>\n      <td>United-States</td>\n      <td>&gt;50K</td>\n    </tr>\n    <tr>\n      <th>34</th>\n      <td>62</td>\n      <td>Self-emp-inc</td>\n      <td>56248</td>\n      <td>Bachelors</td>\n      <td>13</td>\n      <td>Married-civ-spouse</td>\n      <td>Farming-fishing</td>\n      <td>Husband</td>\n      <td>White</td>\n      <td>Male</td>\n      <td>0</td>\n      <td>2415</td>\n      <td>60</td>\n      <td>United-States</td>\n      <td>&gt;50K</td>\n    </tr>\n    <tr>\n      <th>35</th>\n      <td>31</td>\n      <td>Self-emp-not-inc</td>\n      <td>252752</td>\n      <td>HS-grad</td>\n      <td>9</td>\n      <td>Married-civ-spouse</td>\n      <td>Other-service</td>\n      <td>Wife</td>\n      <td>White</td>\n      <td>Female</td>\n      <td>0</td>\n      <td>2415</td>\n      <td>40</td>\n      <td>United-States</td>\n      <td>&gt;50K</td>\n    </tr>\n    <tr>\n      <th>36</th>\n      <td>46</td>\n      <td>Private</td>\n      <td>192963</td>\n      <td>Bachelors</td>\n      <td>13</td>\n      <td>Married-civ-spouse</td>\n      <td>Adm-clerical</td>\n      <td>Husband</td>\n      <td>Asian-Pac-Islander</td>\n      <td>Male</td>\n      <td>0</td>\n      <td>2415</td>\n      <td>35</td>\n      <td>Philippines</td>\n      <td>&gt;50K</td>\n    </tr>\n    <tr>\n      <th>37</th>\n      <td>46</td>\n      <td>Self-emp-not-inc</td>\n      <td>198759</td>\n      <td>Prof-school</td>\n      <td>15</td>\n      <td>Married-civ-spouse</td>\n      <td>Prof-specialty</td>\n      <td>Husband</td>\n      <td>White</td>\n      <td>Male</td>\n      <td>0</td>\n      <td>2415</td>\n      <td>80</td>\n      <td>United-States</td>\n      <td>&gt;50K</td>\n    </tr>\n    <tr>\n      <th>38</th>\n      <td>39</td>\n      <td>Self-emp-inc</td>\n      <td>143123</td>\n      <td>Assoc-voc</td>\n      <td>11</td>\n      <td>Married-civ-spouse</td>\n      <td>Craft-repair</td>\n      <td>Husband</td>\n      <td>White</td>\n      <td>Male</td>\n      <td>0</td>\n      <td>2415</td>\n      <td>40</td>\n      <td>United-States</td>\n      <td>&gt;50K</td>\n    </tr>\n    <tr>\n      <th>39</th>\n      <td>39</td>\n      <td>Private</td>\n      <td>237713</td>\n      <td>Prof-school</td>\n      <td>15</td>\n      <td>Married-civ-spouse</td>\n      <td>Sales</td>\n      <td>Husband</td>\n      <td>White</td>\n      <td>Male</td>\n      <td>0</td>\n      <td>2415</td>\n      <td>99</td>\n      <td>United-States</td>\n      <td>&gt;50K</td>\n    </tr>\n    <tr>\n      <th>40</th>\n      <td>59</td>\n      <td>Private</td>\n      <td>81929</td>\n      <td>Doctorate</td>\n      <td>16</td>\n      <td>Married-civ-spouse</td>\n      <td>Prof-specialty</td>\n      <td>Husband</td>\n      <td>White</td>\n      <td>Male</td>\n      <td>0</td>\n      <td>2415</td>\n      <td>45</td>\n      <td>United-States</td>\n      <td>&gt;50K</td>\n    </tr>\n    <tr>\n      <th>41</th>\n      <td>50</td>\n      <td>Self-emp-inc</td>\n      <td>167793</td>\n      <td>Prof-school</td>\n      <td>15</td>\n      <td>Married-civ-spouse</td>\n      <td>Prof-specialty</td>\n      <td>Husband</td>\n      <td>White</td>\n      <td>Male</td>\n      <td>0</td>\n      <td>2415</td>\n      <td>60</td>\n      <td>United-States</td>\n      <td>&gt;50K</td>\n    </tr>\n    <tr>\n      <th>42</th>\n      <td>46</td>\n      <td>Private</td>\n      <td>456062</td>\n      <td>Doctorate</td>\n      <td>16</td>\n      <td>Married-civ-spouse</td>\n      <td>Prof-specialty</td>\n      <td>Husband</td>\n      <td>White</td>\n      <td>Male</td>\n      <td>0</td>\n      <td>2415</td>\n      <td>55</td>\n      <td>United-States</td>\n      <td>&gt;50K</td>\n    </tr>\n    <tr>\n      <th>43</th>\n      <td>53</td>\n      <td>Self-emp-not-inc</td>\n      <td>105478</td>\n      <td>Bachelors</td>\n      <td>13</td>\n      <td>Married-civ-spouse</td>\n      <td>Exec-managerial</td>\n      <td>Husband</td>\n      <td>White</td>\n      <td>Male</td>\n      <td>0</td>\n      <td>2415</td>\n      <td>40</td>\n      <td>United-States</td>\n      <td>&gt;50K</td>\n    </tr>\n    <tr>\n      <th>44</th>\n      <td>50</td>\n      <td>Self-emp-not-inc</td>\n      <td>42402</td>\n      <td>Prof-school</td>\n      <td>15</td>\n      <td>Married-civ-spouse</td>\n      <td>Prof-specialty</td>\n      <td>Husband</td>\n      <td>White</td>\n      <td>Male</td>\n      <td>0</td>\n      <td>2415</td>\n      <td>30</td>\n      <td>United-States</td>\n      <td>&gt;50K</td>\n    </tr>\n    <tr>\n      <th>45</th>\n      <td>41</td>\n      <td>Self-emp-inc</td>\n      <td>114580</td>\n      <td>Prof-school</td>\n      <td>15</td>\n      <td>Married-civ-spouse</td>\n      <td>Exec-managerial</td>\n      <td>Wife</td>\n      <td>White</td>\n      <td>Female</td>\n      <td>0</td>\n      <td>2415</td>\n      <td>55</td>\n      <td>United-States</td>\n      <td>&gt;50K</td>\n    </tr>\n    <tr>\n      <th>46</th>\n      <td>36</td>\n      <td>Private</td>\n      <td>346478</td>\n      <td>Bachelors</td>\n      <td>13</td>\n      <td>Married-civ-spouse</td>\n      <td>Sales</td>\n      <td>Husband</td>\n      <td>White</td>\n      <td>Male</td>\n      <td>0</td>\n      <td>2415</td>\n      <td>45</td>\n      <td>United-States</td>\n      <td>&gt;50K</td>\n    </tr>\n    <tr>\n      <th>47</th>\n      <td>38</td>\n      <td>Private</td>\n      <td>187870</td>\n      <td>Prof-school</td>\n      <td>15</td>\n      <td>Married-civ-spouse</td>\n      <td>Prof-specialty</td>\n      <td>Husband</td>\n      <td>White</td>\n      <td>Male</td>\n      <td>0</td>\n      <td>2415</td>\n      <td>90</td>\n      <td>United-States</td>\n      <td>&gt;50K</td>\n    </tr>\n    <tr>\n      <th>48</th>\n      <td>54</td>\n      <td>Private</td>\n      <td>35576</td>\n      <td>Some-college</td>\n      <td>10</td>\n      <td>Married-civ-spouse</td>\n      <td>Sales</td>\n      <td>Husband</td>\n      <td>White</td>\n      <td>Male</td>\n      <td>0</td>\n      <td>2415</td>\n      <td>50</td>\n      <td>United-States</td>\n      <td>&gt;50K</td>\n    </tr>\n    <tr>\n      <th>49</th>\n      <td>50</td>\n      <td>Private</td>\n      <td>102346</td>\n      <td>Bachelors</td>\n      <td>13</td>\n      <td>Married-civ-spouse</td>\n      <td>Exec-managerial</td>\n      <td>Wife</td>\n      <td>White</td>\n      <td>Female</td>\n      <td>0</td>\n      <td>2415</td>\n      <td>20</td>\n      <td>United-States</td>\n      <td>&gt;50K</td>\n    </tr>\n  </tbody>\n</table>\n</div>"
          },
          "metadata": {}
        }
      ],
      "execution_count": 4,
      "metadata": {
        "jupyter": {
          "source_hidden": false,
          "outputs_hidden": false
        },
        "nteract": {
          "transient": {
            "deleting": false
          }
        },
        "gather": {
          "logged": 1712950847338
        }
      }
    },
    {
      "cell_type": "markdown",
      "source": [
        "# 2 - Create a data asset: Folder type"
      ],
      "metadata": {
        "nteract": {
          "transient": {
            "deleting": false
          }
        }
      }
    },
    {
      "cell_type": "code",
      "source": [
        "# Connect to Azure Machine Learning Workspace\n",
        "\n",
        "\n",
        "# Import required libraries\n",
        "from azure.ai.ml import MLClient\n",
        "from azure.identity import DefaultAzureCredential\n",
        "from azure.ai.ml.entities import Data\n",
        "from azure.ai.ml.constants import AssetTypes\n",
        "\n",
        "# details of azure ML workspace\n",
        "subscription_id = \"3b57d2fe-08b1-4fe9-b535-f5c4387b9a66\"\n",
        "resource_group = \"azureml-sdkv2-rg\"\n",
        "workspace = \"azureml-sdkv2-ws\"\n",
        "\n",
        "# get a handle to the workspace\n",
        "ml_client = MLClient(DefaultAzureCredential(), subscription_id, resource_group, workspace)\n",
        "print(ml_client)"
      ],
      "outputs": [
        {
          "output_type": "stream",
          "name": "stdout",
          "text": "MLClient(credential=<azure.identity._credentials.default.DefaultAzureCredential object at 0x7f3c86bab520>,\n         subscription_id=3b57d2fe-08b1-4fe9-b535-f5c4387b9a66,\n         resource_group_name=azureml-sdkv2-rg,\n         workspace_name=azureml-sdkv2-ws)\n"
        }
      ],
      "execution_count": 5,
      "metadata": {
        "jupyter": {
          "source_hidden": false,
          "outputs_hidden": false
        },
        "nteract": {
          "transient": {
            "deleting": false
          }
        },
        "gather": {
          "logged": 1712951002831
        }
      }
    },
    {
      "cell_type": "code",
      "source": [
        "VERSION = \"1\"\n",
        "path = \"azureml://datastores/datastore_01/paths/data\"\n",
        "\n",
        "# Define data asset object\n",
        "\n",
        "my_data = Data(\n",
        "    path=path,\n",
        "    type=AssetTypes.URI_FOLDER,\n",
        "    description=\"Creating data asset using pythin sdk v2 - folder type\",\n",
        "    name=\"income-data2\",\n",
        "    version=VERSION\n",
        ")\n",
        "\n",
        "# create data asset in workspace\n",
        "ml_client.data.create_or_update(my_data)"
      ],
      "outputs": [
        {
          "output_type": "execute_result",
          "execution_count": 6,
          "data": {
            "text/plain": "Data({'skip_validation': False, 'mltable_schema_url': None, 'referenced_uris': None, 'type': 'uri_folder', 'is_anonymous': False, 'auto_increment_version': False, 'auto_delete_setting': None, 'name': 'income-data2', 'description': 'Creating data asset using pythin sdk v2 - folder type', 'tags': {}, 'properties': {}, 'print_as_yaml': True, 'id': '/subscriptions/3b57d2fe-08b1-4fe9-b535-f5c4387b9a66/resourceGroups/azureml-sdkv2-rg/providers/Microsoft.MachineLearningServices/workspaces/azureml-sdkv2-ws/data/income-data2/versions/1', 'Resource__source_path': None, 'base_path': '/mnt/batch/tasks/shared/LS_root/mounts/clusters/compute-instance01/code/Users/vijaygadhave199', 'creation_context': <azure.ai.ml.entities._system_data.SystemData object at 0x7f3c8634c310>, 'serialize': <msrest.serialization.Serializer object at 0x7f3c8634ea70>, 'version': '1', 'latest_version': None, 'path': 'azureml://subscriptions/3b57d2fe-08b1-4fe9-b535-f5c4387b9a66/resourcegroups/azureml-sdkv2-rg/workspaces/azureml-sdkv2-ws/datastores/datastore_01/paths/data/', 'datastore': None})"
          },
          "metadata": {}
        }
      ],
      "execution_count": 6,
      "metadata": {
        "jupyter": {
          "source_hidden": false,
          "outputs_hidden": false
        },
        "nteract": {
          "transient": {
            "deleting": false
          }
        },
        "gather": {
          "logged": 1712951179670
        }
      }
    },
    {
      "cell_type": "code",
      "source": [
        "# Consume the data asset\n",
        "\n",
        "import mltable\n",
        "from azure.ai.ml import MLClient\n",
        "from azure.identity import DefaultAzureCredential\n",
        "\n",
        "ml_client = MLClient.from_config(credential=DefaultAzureCredential())\n",
        "data_asset = ml_client.data.get(\"income-data2\", version=\"1\")\n",
        "\n",
        "path = {\n",
        "  'folder': data_asset.path\n",
        "}\n",
        "\n",
        "tbl = mltable.from_delimited_files(paths=[path])\n",
        "df = tbl.to_pandas_dataframe()\n",
        "df"
      ],
      "outputs": [
        {
          "output_type": "stream",
          "name": "stderr",
          "text": "Found the config file in: /config.json\n"
        },
        {
          "output_type": "execute_result",
          "execution_count": 7,
          "data": {
            "text/plain": "    age         workclass  fnlwgt     education  education.num  \\\n0    33           Private  194901     Assoc-voc             11   \n1    43           Private  155106    Assoc-acdm             12   \n2    50      Self-emp-inc  121441          11th              7   \n3    44           Private  162028  Some-college             10   \n4    51  Self-emp-not-inc  160724     Bachelors             13   \n5    41           Private  132222   Prof-school             15   \n6    60      Self-emp-inc  226355     Assoc-voc             11   \n7    37           Private  329980       Masters             14   \n8    55      Self-emp-inc  124137   Prof-school             15   \n9    39      Self-emp-inc  329980     Bachelors             13   \n10   42      Self-emp-inc  187702   Prof-school             15   \n11   49           Private  199029     Bachelors             13   \n12   47  Self-emp-not-inc  145290       HS-grad              9   \n13   41         Local-gov  297248   Prof-school             15   \n14   55      Self-emp-inc  227856     Bachelors             13   \n15   39           Private  179731       Masters             14   \n16   42           Private  154374     Bachelors             13   \n17   41                 ?   27187     Assoc-voc             11   \n18   46           Private  326857       Masters             14   \n19   40           Private  160369       Masters             14   \n20   32           Private  396745     Bachelors             13   \n21   41      Self-emp-inc  151089  Some-college             10   \n22   60      Self-emp-inc  336188   Prof-school             15   \n23   31           Private  279015       Masters             14   \n24   58  Self-emp-not-inc   43221  Some-college             10   \n25   37      Self-emp-inc   30529     Bachelors             13   \n26   44  Self-emp-not-inc  201742     Bachelors             13   \n27   39  Self-emp-not-inc  218490   Prof-school             15   \n28   43       Federal-gov  156996   Prof-school             15   \n29   55      Self-emp-inc  298449     Bachelors             13   \n30   44      Self-emp-inc  191712       Masters             14   \n31   39           Private  198654   Prof-school             15   \n32   46  Self-emp-not-inc  102308     Bachelors             13   \n33   39           Private  348521  Some-college             10   \n34   62      Self-emp-inc   56248     Bachelors             13   \n35   31  Self-emp-not-inc  252752       HS-grad              9   \n36   46           Private  192963     Bachelors             13   \n37   46  Self-emp-not-inc  198759   Prof-school             15   \n38   39      Self-emp-inc  143123     Assoc-voc             11   \n39   39           Private  237713   Prof-school             15   \n40   59           Private   81929     Doctorate             16   \n41   50      Self-emp-inc  167793   Prof-school             15   \n42   46           Private  456062     Doctorate             16   \n43   53  Self-emp-not-inc  105478     Bachelors             13   \n44   50  Self-emp-not-inc   42402   Prof-school             15   \n45   41      Self-emp-inc  114580   Prof-school             15   \n46   36           Private  346478     Bachelors             13   \n47   38           Private  187870   Prof-school             15   \n48   54           Private   35576  Some-college             10   \n49   50           Private  102346     Bachelors             13   \n\n        marital.status         occupation    relationship                race  \\\n0            Separated       Craft-repair   Not-in-family               White   \n1             Divorced       Craft-repair   Not-in-family               White   \n2        Never-married    Exec-managerial  Other-relative               White   \n3   Married-civ-spouse       Adm-clerical            Wife               White   \n4   Married-civ-spouse              Sales         Husband  Asian-Pac-Islander   \n5   Married-civ-spouse     Prof-specialty         Husband               White   \n6   Married-civ-spouse  Machine-op-inspct         Husband               White   \n7   Married-civ-spouse    Exec-managerial         Husband               White   \n8   Married-civ-spouse     Prof-specialty         Husband               White   \n9   Married-civ-spouse              Sales         Husband               White   \n10  Married-civ-spouse     Prof-specialty         Husband               White   \n11  Married-civ-spouse              Sales         Husband               White   \n12  Married-civ-spouse    Exec-managerial         Husband               White   \n13  Married-civ-spouse     Prof-specialty         Husband               White   \n14  Married-civ-spouse    Exec-managerial         Husband               White   \n15  Married-civ-spouse    Exec-managerial            Wife               White   \n16  Married-civ-spouse    Exec-managerial         Husband               White   \n17  Married-civ-spouse                  ?         Husband               White   \n18  Married-civ-spouse              Sales         Husband               White   \n19  Married-civ-spouse    Exec-managerial         Husband               White   \n20  Married-civ-spouse     Prof-specialty         Husband               White   \n21  Married-civ-spouse    Exec-managerial         Husband               White   \n22  Married-civ-spouse     Prof-specialty         Husband               White   \n23  Married-civ-spouse    Exec-managerial         Husband               White   \n24  Married-civ-spouse    Farming-fishing         Husband               White   \n25  Married-civ-spouse              Sales         Husband               White   \n26  Married-civ-spouse    Exec-managerial         Husband               White   \n27  Married-civ-spouse     Prof-specialty         Husband               White   \n28  Married-civ-spouse     Prof-specialty         Husband  Asian-Pac-Islander   \n29  Married-civ-spouse    Exec-managerial         Husband               White   \n30  Married-civ-spouse     Prof-specialty         Husband               White   \n31  Married-civ-spouse     Prof-specialty         Husband  Asian-Pac-Islander   \n32  Married-civ-spouse              Sales         Husband               White   \n33  Married-civ-spouse    Farming-fishing         Husband               White   \n34  Married-civ-spouse    Farming-fishing         Husband               White   \n35  Married-civ-spouse      Other-service            Wife               White   \n36  Married-civ-spouse       Adm-clerical         Husband  Asian-Pac-Islander   \n37  Married-civ-spouse     Prof-specialty         Husband               White   \n38  Married-civ-spouse       Craft-repair         Husband               White   \n39  Married-civ-spouse              Sales         Husband               White   \n40  Married-civ-spouse     Prof-specialty         Husband               White   \n41  Married-civ-spouse     Prof-specialty         Husband               White   \n42  Married-civ-spouse     Prof-specialty         Husband               White   \n43  Married-civ-spouse    Exec-managerial         Husband               White   \n44  Married-civ-spouse     Prof-specialty         Husband               White   \n45  Married-civ-spouse    Exec-managerial            Wife               White   \n46  Married-civ-spouse              Sales         Husband               White   \n47  Married-civ-spouse     Prof-specialty         Husband               White   \n48  Married-civ-spouse              Sales         Husband               White   \n49  Married-civ-spouse    Exec-managerial            Wife               White   \n\n       sex  capital.gain  capital.loss  hours.per.week native.country income  \n0     Male         False          2444              42  United-States   >50K  \n1     Male         False          2444              70  United-States   >50K  \n2     Male         False          2444              40  United-States   >50K  \n3   Female         False          2415               6  United-States   >50K  \n4     Male         False          2415              40          China   >50K  \n5     Male         False          2415              40  United-States   >50K  \n6     Male         False          2415              70              ?   >50K  \n7     Male         False          2415              60  United-States   >50K  \n8     Male         False          2415              35         Greece   >50K  \n9     Male         False          2415              60  United-States   >50K  \n10    Male         False          2415              60  United-States   >50K  \n11    Male         False          2415              55  United-States   >50K  \n12    Male         False          2415              50  United-States   >50K  \n13    Male         False          2415              45  United-States   >50K  \n14    Male         False          2415              50  United-States   >50K  \n15  Female         False          2415              65  United-States   >50K  \n16    Male         False          2415              60  United-States   >50K  \n17    Male         False          2415              12  United-States   >50K  \n18    Male         False          2415              65  United-States   >50K  \n19    Male         False          2415              45  United-States   >50K  \n20    Male         False          2415              48  United-States   >50K  \n21    Male         False          2415              55  United-States   >50K  \n22    Male         False          2415              80  United-States   >50K  \n23    Male         False          2415              70         Taiwan   >50K  \n24    Male         False          2415              40  United-States   >50K  \n25    Male         False          2415              50  United-States   >50K  \n26    Male         False          2415              50  United-States   >50K  \n27    Male         False          2415              50              ?   >50K  \n28    Male         False          2415              55              ?   >50K  \n29    Male         False          2415              50  United-States   >50K  \n30    Male         False          2415              55  United-States   >50K  \n31    Male         False          2415              67          India   >50K  \n32    Male         False          2415              40  United-States   >50K  \n33    Male         False          2415              99  United-States   >50K  \n34    Male         False          2415              60  United-States   >50K  \n35  Female         False          2415              40  United-States   >50K  \n36    Male         False          2415              35    Philippines   >50K  \n37    Male         False          2415              80  United-States   >50K  \n38    Male         False          2415              40  United-States   >50K  \n39    Male         False          2415              99  United-States   >50K  \n40    Male         False          2415              45  United-States   >50K  \n41    Male         False          2415              60  United-States   >50K  \n42    Male         False          2415              55  United-States   >50K  \n43    Male         False          2415              40  United-States   >50K  \n44    Male         False          2415              30  United-States   >50K  \n45  Female         False          2415              55  United-States   >50K  \n46    Male         False          2415              45  United-States   >50K  \n47    Male         False          2415              90  United-States   >50K  \n48    Male         False          2415              50  United-States   >50K  \n49  Female         False          2415              20  United-States   >50K  ",
            "text/html": "<div>\n<style scoped>\n    .dataframe tbody tr th:only-of-type {\n        vertical-align: middle;\n    }\n\n    .dataframe tbody tr th {\n        vertical-align: top;\n    }\n\n    .dataframe thead th {\n        text-align: right;\n    }\n</style>\n<table border=\"1\" class=\"dataframe\">\n  <thead>\n    <tr style=\"text-align: right;\">\n      <th></th>\n      <th>age</th>\n      <th>workclass</th>\n      <th>fnlwgt</th>\n      <th>education</th>\n      <th>education.num</th>\n      <th>marital.status</th>\n      <th>occupation</th>\n      <th>relationship</th>\n      <th>race</th>\n      <th>sex</th>\n      <th>capital.gain</th>\n      <th>capital.loss</th>\n      <th>hours.per.week</th>\n      <th>native.country</th>\n      <th>income</th>\n    </tr>\n  </thead>\n  <tbody>\n    <tr>\n      <th>0</th>\n      <td>33</td>\n      <td>Private</td>\n      <td>194901</td>\n      <td>Assoc-voc</td>\n      <td>11</td>\n      <td>Separated</td>\n      <td>Craft-repair</td>\n      <td>Not-in-family</td>\n      <td>White</td>\n      <td>Male</td>\n      <td>False</td>\n      <td>2444</td>\n      <td>42</td>\n      <td>United-States</td>\n      <td>&gt;50K</td>\n    </tr>\n    <tr>\n      <th>1</th>\n      <td>43</td>\n      <td>Private</td>\n      <td>155106</td>\n      <td>Assoc-acdm</td>\n      <td>12</td>\n      <td>Divorced</td>\n      <td>Craft-repair</td>\n      <td>Not-in-family</td>\n      <td>White</td>\n      <td>Male</td>\n      <td>False</td>\n      <td>2444</td>\n      <td>70</td>\n      <td>United-States</td>\n      <td>&gt;50K</td>\n    </tr>\n    <tr>\n      <th>2</th>\n      <td>50</td>\n      <td>Self-emp-inc</td>\n      <td>121441</td>\n      <td>11th</td>\n      <td>7</td>\n      <td>Never-married</td>\n      <td>Exec-managerial</td>\n      <td>Other-relative</td>\n      <td>White</td>\n      <td>Male</td>\n      <td>False</td>\n      <td>2444</td>\n      <td>40</td>\n      <td>United-States</td>\n      <td>&gt;50K</td>\n    </tr>\n    <tr>\n      <th>3</th>\n      <td>44</td>\n      <td>Private</td>\n      <td>162028</td>\n      <td>Some-college</td>\n      <td>10</td>\n      <td>Married-civ-spouse</td>\n      <td>Adm-clerical</td>\n      <td>Wife</td>\n      <td>White</td>\n      <td>Female</td>\n      <td>False</td>\n      <td>2415</td>\n      <td>6</td>\n      <td>United-States</td>\n      <td>&gt;50K</td>\n    </tr>\n    <tr>\n      <th>4</th>\n      <td>51</td>\n      <td>Self-emp-not-inc</td>\n      <td>160724</td>\n      <td>Bachelors</td>\n      <td>13</td>\n      <td>Married-civ-spouse</td>\n      <td>Sales</td>\n      <td>Husband</td>\n      <td>Asian-Pac-Islander</td>\n      <td>Male</td>\n      <td>False</td>\n      <td>2415</td>\n      <td>40</td>\n      <td>China</td>\n      <td>&gt;50K</td>\n    </tr>\n    <tr>\n      <th>5</th>\n      <td>41</td>\n      <td>Private</td>\n      <td>132222</td>\n      <td>Prof-school</td>\n      <td>15</td>\n      <td>Married-civ-spouse</td>\n      <td>Prof-specialty</td>\n      <td>Husband</td>\n      <td>White</td>\n      <td>Male</td>\n      <td>False</td>\n      <td>2415</td>\n      <td>40</td>\n      <td>United-States</td>\n      <td>&gt;50K</td>\n    </tr>\n    <tr>\n      <th>6</th>\n      <td>60</td>\n      <td>Self-emp-inc</td>\n      <td>226355</td>\n      <td>Assoc-voc</td>\n      <td>11</td>\n      <td>Married-civ-spouse</td>\n      <td>Machine-op-inspct</td>\n      <td>Husband</td>\n      <td>White</td>\n      <td>Male</td>\n      <td>False</td>\n      <td>2415</td>\n      <td>70</td>\n      <td>?</td>\n      <td>&gt;50K</td>\n    </tr>\n    <tr>\n      <th>7</th>\n      <td>37</td>\n      <td>Private</td>\n      <td>329980</td>\n      <td>Masters</td>\n      <td>14</td>\n      <td>Married-civ-spouse</td>\n      <td>Exec-managerial</td>\n      <td>Husband</td>\n      <td>White</td>\n      <td>Male</td>\n      <td>False</td>\n      <td>2415</td>\n      <td>60</td>\n      <td>United-States</td>\n      <td>&gt;50K</td>\n    </tr>\n    <tr>\n      <th>8</th>\n      <td>55</td>\n      <td>Self-emp-inc</td>\n      <td>124137</td>\n      <td>Prof-school</td>\n      <td>15</td>\n      <td>Married-civ-spouse</td>\n      <td>Prof-specialty</td>\n      <td>Husband</td>\n      <td>White</td>\n      <td>Male</td>\n      <td>False</td>\n      <td>2415</td>\n      <td>35</td>\n      <td>Greece</td>\n      <td>&gt;50K</td>\n    </tr>\n    <tr>\n      <th>9</th>\n      <td>39</td>\n      <td>Self-emp-inc</td>\n      <td>329980</td>\n      <td>Bachelors</td>\n      <td>13</td>\n      <td>Married-civ-spouse</td>\n      <td>Sales</td>\n      <td>Husband</td>\n      <td>White</td>\n      <td>Male</td>\n      <td>False</td>\n      <td>2415</td>\n      <td>60</td>\n      <td>United-States</td>\n      <td>&gt;50K</td>\n    </tr>\n    <tr>\n      <th>10</th>\n      <td>42</td>\n      <td>Self-emp-inc</td>\n      <td>187702</td>\n      <td>Prof-school</td>\n      <td>15</td>\n      <td>Married-civ-spouse</td>\n      <td>Prof-specialty</td>\n      <td>Husband</td>\n      <td>White</td>\n      <td>Male</td>\n      <td>False</td>\n      <td>2415</td>\n      <td>60</td>\n      <td>United-States</td>\n      <td>&gt;50K</td>\n    </tr>\n    <tr>\n      <th>11</th>\n      <td>49</td>\n      <td>Private</td>\n      <td>199029</td>\n      <td>Bachelors</td>\n      <td>13</td>\n      <td>Married-civ-spouse</td>\n      <td>Sales</td>\n      <td>Husband</td>\n      <td>White</td>\n      <td>Male</td>\n      <td>False</td>\n      <td>2415</td>\n      <td>55</td>\n      <td>United-States</td>\n      <td>&gt;50K</td>\n    </tr>\n    <tr>\n      <th>12</th>\n      <td>47</td>\n      <td>Self-emp-not-inc</td>\n      <td>145290</td>\n      <td>HS-grad</td>\n      <td>9</td>\n      <td>Married-civ-spouse</td>\n      <td>Exec-managerial</td>\n      <td>Husband</td>\n      <td>White</td>\n      <td>Male</td>\n      <td>False</td>\n      <td>2415</td>\n      <td>50</td>\n      <td>United-States</td>\n      <td>&gt;50K</td>\n    </tr>\n    <tr>\n      <th>13</th>\n      <td>41</td>\n      <td>Local-gov</td>\n      <td>297248</td>\n      <td>Prof-school</td>\n      <td>15</td>\n      <td>Married-civ-spouse</td>\n      <td>Prof-specialty</td>\n      <td>Husband</td>\n      <td>White</td>\n      <td>Male</td>\n      <td>False</td>\n      <td>2415</td>\n      <td>45</td>\n      <td>United-States</td>\n      <td>&gt;50K</td>\n    </tr>\n    <tr>\n      <th>14</th>\n      <td>55</td>\n      <td>Self-emp-inc</td>\n      <td>227856</td>\n      <td>Bachelors</td>\n      <td>13</td>\n      <td>Married-civ-spouse</td>\n      <td>Exec-managerial</td>\n      <td>Husband</td>\n      <td>White</td>\n      <td>Male</td>\n      <td>False</td>\n      <td>2415</td>\n      <td>50</td>\n      <td>United-States</td>\n      <td>&gt;50K</td>\n    </tr>\n    <tr>\n      <th>15</th>\n      <td>39</td>\n      <td>Private</td>\n      <td>179731</td>\n      <td>Masters</td>\n      <td>14</td>\n      <td>Married-civ-spouse</td>\n      <td>Exec-managerial</td>\n      <td>Wife</td>\n      <td>White</td>\n      <td>Female</td>\n      <td>False</td>\n      <td>2415</td>\n      <td>65</td>\n      <td>United-States</td>\n      <td>&gt;50K</td>\n    </tr>\n    <tr>\n      <th>16</th>\n      <td>42</td>\n      <td>Private</td>\n      <td>154374</td>\n      <td>Bachelors</td>\n      <td>13</td>\n      <td>Married-civ-spouse</td>\n      <td>Exec-managerial</td>\n      <td>Husband</td>\n      <td>White</td>\n      <td>Male</td>\n      <td>False</td>\n      <td>2415</td>\n      <td>60</td>\n      <td>United-States</td>\n      <td>&gt;50K</td>\n    </tr>\n    <tr>\n      <th>17</th>\n      <td>41</td>\n      <td>?</td>\n      <td>27187</td>\n      <td>Assoc-voc</td>\n      <td>11</td>\n      <td>Married-civ-spouse</td>\n      <td>?</td>\n      <td>Husband</td>\n      <td>White</td>\n      <td>Male</td>\n      <td>False</td>\n      <td>2415</td>\n      <td>12</td>\n      <td>United-States</td>\n      <td>&gt;50K</td>\n    </tr>\n    <tr>\n      <th>18</th>\n      <td>46</td>\n      <td>Private</td>\n      <td>326857</td>\n      <td>Masters</td>\n      <td>14</td>\n      <td>Married-civ-spouse</td>\n      <td>Sales</td>\n      <td>Husband</td>\n      <td>White</td>\n      <td>Male</td>\n      <td>False</td>\n      <td>2415</td>\n      <td>65</td>\n      <td>United-States</td>\n      <td>&gt;50K</td>\n    </tr>\n    <tr>\n      <th>19</th>\n      <td>40</td>\n      <td>Private</td>\n      <td>160369</td>\n      <td>Masters</td>\n      <td>14</td>\n      <td>Married-civ-spouse</td>\n      <td>Exec-managerial</td>\n      <td>Husband</td>\n      <td>White</td>\n      <td>Male</td>\n      <td>False</td>\n      <td>2415</td>\n      <td>45</td>\n      <td>United-States</td>\n      <td>&gt;50K</td>\n    </tr>\n    <tr>\n      <th>20</th>\n      <td>32</td>\n      <td>Private</td>\n      <td>396745</td>\n      <td>Bachelors</td>\n      <td>13</td>\n      <td>Married-civ-spouse</td>\n      <td>Prof-specialty</td>\n      <td>Husband</td>\n      <td>White</td>\n      <td>Male</td>\n      <td>False</td>\n      <td>2415</td>\n      <td>48</td>\n      <td>United-States</td>\n      <td>&gt;50K</td>\n    </tr>\n    <tr>\n      <th>21</th>\n      <td>41</td>\n      <td>Self-emp-inc</td>\n      <td>151089</td>\n      <td>Some-college</td>\n      <td>10</td>\n      <td>Married-civ-spouse</td>\n      <td>Exec-managerial</td>\n      <td>Husband</td>\n      <td>White</td>\n      <td>Male</td>\n      <td>False</td>\n      <td>2415</td>\n      <td>55</td>\n      <td>United-States</td>\n      <td>&gt;50K</td>\n    </tr>\n    <tr>\n      <th>22</th>\n      <td>60</td>\n      <td>Self-emp-inc</td>\n      <td>336188</td>\n      <td>Prof-school</td>\n      <td>15</td>\n      <td>Married-civ-spouse</td>\n      <td>Prof-specialty</td>\n      <td>Husband</td>\n      <td>White</td>\n      <td>Male</td>\n      <td>False</td>\n      <td>2415</td>\n      <td>80</td>\n      <td>United-States</td>\n      <td>&gt;50K</td>\n    </tr>\n    <tr>\n      <th>23</th>\n      <td>31</td>\n      <td>Private</td>\n      <td>279015</td>\n      <td>Masters</td>\n      <td>14</td>\n      <td>Married-civ-spouse</td>\n      <td>Exec-managerial</td>\n      <td>Husband</td>\n      <td>White</td>\n      <td>Male</td>\n      <td>False</td>\n      <td>2415</td>\n      <td>70</td>\n      <td>Taiwan</td>\n      <td>&gt;50K</td>\n    </tr>\n    <tr>\n      <th>24</th>\n      <td>58</td>\n      <td>Self-emp-not-inc</td>\n      <td>43221</td>\n      <td>Some-college</td>\n      <td>10</td>\n      <td>Married-civ-spouse</td>\n      <td>Farming-fishing</td>\n      <td>Husband</td>\n      <td>White</td>\n      <td>Male</td>\n      <td>False</td>\n      <td>2415</td>\n      <td>40</td>\n      <td>United-States</td>\n      <td>&gt;50K</td>\n    </tr>\n    <tr>\n      <th>25</th>\n      <td>37</td>\n      <td>Self-emp-inc</td>\n      <td>30529</td>\n      <td>Bachelors</td>\n      <td>13</td>\n      <td>Married-civ-spouse</td>\n      <td>Sales</td>\n      <td>Husband</td>\n      <td>White</td>\n      <td>Male</td>\n      <td>False</td>\n      <td>2415</td>\n      <td>50</td>\n      <td>United-States</td>\n      <td>&gt;50K</td>\n    </tr>\n    <tr>\n      <th>26</th>\n      <td>44</td>\n      <td>Self-emp-not-inc</td>\n      <td>201742</td>\n      <td>Bachelors</td>\n      <td>13</td>\n      <td>Married-civ-spouse</td>\n      <td>Exec-managerial</td>\n      <td>Husband</td>\n      <td>White</td>\n      <td>Male</td>\n      <td>False</td>\n      <td>2415</td>\n      <td>50</td>\n      <td>United-States</td>\n      <td>&gt;50K</td>\n    </tr>\n    <tr>\n      <th>27</th>\n      <td>39</td>\n      <td>Self-emp-not-inc</td>\n      <td>218490</td>\n      <td>Prof-school</td>\n      <td>15</td>\n      <td>Married-civ-spouse</td>\n      <td>Prof-specialty</td>\n      <td>Husband</td>\n      <td>White</td>\n      <td>Male</td>\n      <td>False</td>\n      <td>2415</td>\n      <td>50</td>\n      <td>?</td>\n      <td>&gt;50K</td>\n    </tr>\n    <tr>\n      <th>28</th>\n      <td>43</td>\n      <td>Federal-gov</td>\n      <td>156996</td>\n      <td>Prof-school</td>\n      <td>15</td>\n      <td>Married-civ-spouse</td>\n      <td>Prof-specialty</td>\n      <td>Husband</td>\n      <td>Asian-Pac-Islander</td>\n      <td>Male</td>\n      <td>False</td>\n      <td>2415</td>\n      <td>55</td>\n      <td>?</td>\n      <td>&gt;50K</td>\n    </tr>\n    <tr>\n      <th>29</th>\n      <td>55</td>\n      <td>Self-emp-inc</td>\n      <td>298449</td>\n      <td>Bachelors</td>\n      <td>13</td>\n      <td>Married-civ-spouse</td>\n      <td>Exec-managerial</td>\n      <td>Husband</td>\n      <td>White</td>\n      <td>Male</td>\n      <td>False</td>\n      <td>2415</td>\n      <td>50</td>\n      <td>United-States</td>\n      <td>&gt;50K</td>\n    </tr>\n    <tr>\n      <th>30</th>\n      <td>44</td>\n      <td>Self-emp-inc</td>\n      <td>191712</td>\n      <td>Masters</td>\n      <td>14</td>\n      <td>Married-civ-spouse</td>\n      <td>Prof-specialty</td>\n      <td>Husband</td>\n      <td>White</td>\n      <td>Male</td>\n      <td>False</td>\n      <td>2415</td>\n      <td>55</td>\n      <td>United-States</td>\n      <td>&gt;50K</td>\n    </tr>\n    <tr>\n      <th>31</th>\n      <td>39</td>\n      <td>Private</td>\n      <td>198654</td>\n      <td>Prof-school</td>\n      <td>15</td>\n      <td>Married-civ-spouse</td>\n      <td>Prof-specialty</td>\n      <td>Husband</td>\n      <td>Asian-Pac-Islander</td>\n      <td>Male</td>\n      <td>False</td>\n      <td>2415</td>\n      <td>67</td>\n      <td>India</td>\n      <td>&gt;50K</td>\n    </tr>\n    <tr>\n      <th>32</th>\n      <td>46</td>\n      <td>Self-emp-not-inc</td>\n      <td>102308</td>\n      <td>Bachelors</td>\n      <td>13</td>\n      <td>Married-civ-spouse</td>\n      <td>Sales</td>\n      <td>Husband</td>\n      <td>White</td>\n      <td>Male</td>\n      <td>False</td>\n      <td>2415</td>\n      <td>40</td>\n      <td>United-States</td>\n      <td>&gt;50K</td>\n    </tr>\n    <tr>\n      <th>33</th>\n      <td>39</td>\n      <td>Private</td>\n      <td>348521</td>\n      <td>Some-college</td>\n      <td>10</td>\n      <td>Married-civ-spouse</td>\n      <td>Farming-fishing</td>\n      <td>Husband</td>\n      <td>White</td>\n      <td>Male</td>\n      <td>False</td>\n      <td>2415</td>\n      <td>99</td>\n      <td>United-States</td>\n      <td>&gt;50K</td>\n    </tr>\n    <tr>\n      <th>34</th>\n      <td>62</td>\n      <td>Self-emp-inc</td>\n      <td>56248</td>\n      <td>Bachelors</td>\n      <td>13</td>\n      <td>Married-civ-spouse</td>\n      <td>Farming-fishing</td>\n      <td>Husband</td>\n      <td>White</td>\n      <td>Male</td>\n      <td>False</td>\n      <td>2415</td>\n      <td>60</td>\n      <td>United-States</td>\n      <td>&gt;50K</td>\n    </tr>\n    <tr>\n      <th>35</th>\n      <td>31</td>\n      <td>Self-emp-not-inc</td>\n      <td>252752</td>\n      <td>HS-grad</td>\n      <td>9</td>\n      <td>Married-civ-spouse</td>\n      <td>Other-service</td>\n      <td>Wife</td>\n      <td>White</td>\n      <td>Female</td>\n      <td>False</td>\n      <td>2415</td>\n      <td>40</td>\n      <td>United-States</td>\n      <td>&gt;50K</td>\n    </tr>\n    <tr>\n      <th>36</th>\n      <td>46</td>\n      <td>Private</td>\n      <td>192963</td>\n      <td>Bachelors</td>\n      <td>13</td>\n      <td>Married-civ-spouse</td>\n      <td>Adm-clerical</td>\n      <td>Husband</td>\n      <td>Asian-Pac-Islander</td>\n      <td>Male</td>\n      <td>False</td>\n      <td>2415</td>\n      <td>35</td>\n      <td>Philippines</td>\n      <td>&gt;50K</td>\n    </tr>\n    <tr>\n      <th>37</th>\n      <td>46</td>\n      <td>Self-emp-not-inc</td>\n      <td>198759</td>\n      <td>Prof-school</td>\n      <td>15</td>\n      <td>Married-civ-spouse</td>\n      <td>Prof-specialty</td>\n      <td>Husband</td>\n      <td>White</td>\n      <td>Male</td>\n      <td>False</td>\n      <td>2415</td>\n      <td>80</td>\n      <td>United-States</td>\n      <td>&gt;50K</td>\n    </tr>\n    <tr>\n      <th>38</th>\n      <td>39</td>\n      <td>Self-emp-inc</td>\n      <td>143123</td>\n      <td>Assoc-voc</td>\n      <td>11</td>\n      <td>Married-civ-spouse</td>\n      <td>Craft-repair</td>\n      <td>Husband</td>\n      <td>White</td>\n      <td>Male</td>\n      <td>False</td>\n      <td>2415</td>\n      <td>40</td>\n      <td>United-States</td>\n      <td>&gt;50K</td>\n    </tr>\n    <tr>\n      <th>39</th>\n      <td>39</td>\n      <td>Private</td>\n      <td>237713</td>\n      <td>Prof-school</td>\n      <td>15</td>\n      <td>Married-civ-spouse</td>\n      <td>Sales</td>\n      <td>Husband</td>\n      <td>White</td>\n      <td>Male</td>\n      <td>False</td>\n      <td>2415</td>\n      <td>99</td>\n      <td>United-States</td>\n      <td>&gt;50K</td>\n    </tr>\n    <tr>\n      <th>40</th>\n      <td>59</td>\n      <td>Private</td>\n      <td>81929</td>\n      <td>Doctorate</td>\n      <td>16</td>\n      <td>Married-civ-spouse</td>\n      <td>Prof-specialty</td>\n      <td>Husband</td>\n      <td>White</td>\n      <td>Male</td>\n      <td>False</td>\n      <td>2415</td>\n      <td>45</td>\n      <td>United-States</td>\n      <td>&gt;50K</td>\n    </tr>\n    <tr>\n      <th>41</th>\n      <td>50</td>\n      <td>Self-emp-inc</td>\n      <td>167793</td>\n      <td>Prof-school</td>\n      <td>15</td>\n      <td>Married-civ-spouse</td>\n      <td>Prof-specialty</td>\n      <td>Husband</td>\n      <td>White</td>\n      <td>Male</td>\n      <td>False</td>\n      <td>2415</td>\n      <td>60</td>\n      <td>United-States</td>\n      <td>&gt;50K</td>\n    </tr>\n    <tr>\n      <th>42</th>\n      <td>46</td>\n      <td>Private</td>\n      <td>456062</td>\n      <td>Doctorate</td>\n      <td>16</td>\n      <td>Married-civ-spouse</td>\n      <td>Prof-specialty</td>\n      <td>Husband</td>\n      <td>White</td>\n      <td>Male</td>\n      <td>False</td>\n      <td>2415</td>\n      <td>55</td>\n      <td>United-States</td>\n      <td>&gt;50K</td>\n    </tr>\n    <tr>\n      <th>43</th>\n      <td>53</td>\n      <td>Self-emp-not-inc</td>\n      <td>105478</td>\n      <td>Bachelors</td>\n      <td>13</td>\n      <td>Married-civ-spouse</td>\n      <td>Exec-managerial</td>\n      <td>Husband</td>\n      <td>White</td>\n      <td>Male</td>\n      <td>False</td>\n      <td>2415</td>\n      <td>40</td>\n      <td>United-States</td>\n      <td>&gt;50K</td>\n    </tr>\n    <tr>\n      <th>44</th>\n      <td>50</td>\n      <td>Self-emp-not-inc</td>\n      <td>42402</td>\n      <td>Prof-school</td>\n      <td>15</td>\n      <td>Married-civ-spouse</td>\n      <td>Prof-specialty</td>\n      <td>Husband</td>\n      <td>White</td>\n      <td>Male</td>\n      <td>False</td>\n      <td>2415</td>\n      <td>30</td>\n      <td>United-States</td>\n      <td>&gt;50K</td>\n    </tr>\n    <tr>\n      <th>45</th>\n      <td>41</td>\n      <td>Self-emp-inc</td>\n      <td>114580</td>\n      <td>Prof-school</td>\n      <td>15</td>\n      <td>Married-civ-spouse</td>\n      <td>Exec-managerial</td>\n      <td>Wife</td>\n      <td>White</td>\n      <td>Female</td>\n      <td>False</td>\n      <td>2415</td>\n      <td>55</td>\n      <td>United-States</td>\n      <td>&gt;50K</td>\n    </tr>\n    <tr>\n      <th>46</th>\n      <td>36</td>\n      <td>Private</td>\n      <td>346478</td>\n      <td>Bachelors</td>\n      <td>13</td>\n      <td>Married-civ-spouse</td>\n      <td>Sales</td>\n      <td>Husband</td>\n      <td>White</td>\n      <td>Male</td>\n      <td>False</td>\n      <td>2415</td>\n      <td>45</td>\n      <td>United-States</td>\n      <td>&gt;50K</td>\n    </tr>\n    <tr>\n      <th>47</th>\n      <td>38</td>\n      <td>Private</td>\n      <td>187870</td>\n      <td>Prof-school</td>\n      <td>15</td>\n      <td>Married-civ-spouse</td>\n      <td>Prof-specialty</td>\n      <td>Husband</td>\n      <td>White</td>\n      <td>Male</td>\n      <td>False</td>\n      <td>2415</td>\n      <td>90</td>\n      <td>United-States</td>\n      <td>&gt;50K</td>\n    </tr>\n    <tr>\n      <th>48</th>\n      <td>54</td>\n      <td>Private</td>\n      <td>35576</td>\n      <td>Some-college</td>\n      <td>10</td>\n      <td>Married-civ-spouse</td>\n      <td>Sales</td>\n      <td>Husband</td>\n      <td>White</td>\n      <td>Male</td>\n      <td>False</td>\n      <td>2415</td>\n      <td>50</td>\n      <td>United-States</td>\n      <td>&gt;50K</td>\n    </tr>\n    <tr>\n      <th>49</th>\n      <td>50</td>\n      <td>Private</td>\n      <td>102346</td>\n      <td>Bachelors</td>\n      <td>13</td>\n      <td>Married-civ-spouse</td>\n      <td>Exec-managerial</td>\n      <td>Wife</td>\n      <td>White</td>\n      <td>Female</td>\n      <td>False</td>\n      <td>2415</td>\n      <td>20</td>\n      <td>United-States</td>\n      <td>&gt;50K</td>\n    </tr>\n  </tbody>\n</table>\n</div>"
          },
          "metadata": {}
        }
      ],
      "execution_count": 7,
      "metadata": {
        "jupyter": {
          "source_hidden": false,
          "outputs_hidden": false
        },
        "nteract": {
          "transient": {
            "deleting": false
          }
        },
        "gather": {
          "logged": 1712951214533
        }
      }
    },
    {
      "cell_type": "markdown",
      "source": [
        "# 3 - Create data aseet: Table Type"
      ],
      "metadata": {
        "nteract": {
          "transient": {
            "deleting": false
          }
        }
      }
    },
    {
      "cell_type": "code",
      "source": [
        "import mltable\n",
        "from mltable import MLTableHeaders, MLTableFileEncoding, DataType\n",
        "from azure.ai.ml import MLClient\n",
        "from azure.ai.ml.entities import Data\n",
        "from azure.ai.ml.constants import AssetTypes\n",
        "from azure.identity import DefaultAzureCredential\n",
        "\n",
        "# create paths to the data files\n",
        "paths = [{\"file\": \"wasbs://data@azuremlexampledata.blob.core.windows.net/titanic.csv\"}]\n",
        "\n",
        "# create an MLTable from the data files\n",
        "tbl = mltable.from_delimited_files(\n",
        "    paths=paths,\n",
        "    delimiter=\",\",\n",
        "    header=MLTableHeaders.all_files_same_headers,\n",
        "    infer_column_types=True,\n",
        "    include_path_column=False,\n",
        "    encoding=MLTableFileEncoding.utf8,\n",
        ")\n",
        "\n",
        "# filter out rows undefined ages\n",
        "tbl = tbl.filter(\"col('Age') > 0\")\n",
        "\n",
        "# drop PassengerId\n",
        "tbl = tbl.drop_columns([\"PassengerId\"])\n",
        "\n",
        "# ensure survived column is treated as boolean\n",
        "data_types = {\n",
        "    \"Survived\": DataType.to_bool(\n",
        "        true_values=[\"True\", \"true\", \"1\"], false_values=[\"False\", \"false\", \"0\"]\n",
        "    )\n",
        "}\n",
        "tbl = tbl.convert_column_types(data_types)\n",
        "\n",
        "# show the first few records\n",
        "print(tbl.show())\n",
        "\n",
        "# save the data loading steps in an MLTable file\n",
        "mltable_folder = \"./titanic\"\n",
        "tbl.save(mltable_folder)\n",
        "\n",
        "# details of azure ML workspace\n",
        "subscription_id = \"3b57d2fe-08b1-4fe9-b535-f5c4387b9a66\"\n",
        "resource_group = \"azureml-sdkv2-rg\"\n",
        "workspace = \"azureml-sdkv2-ws\"\n",
        "\n",
        "# get a handle to the workspace\n",
        "ml_client = MLClient(DefaultAzureCredential(), subscription_id, resource_group, workspace)\n",
        "\n",
        "\n",
        "# Define the Data asset object\n",
        "my_data = Data(\n",
        "    path=mltable_folder,\n",
        "    type=AssetTypes.MLTABLE,\n",
        "    description=\"creating data asset using sdk v2 - mltable\",\n",
        "    name=\"income-data3\",\n",
        "    version=\"1\",\n",
        ")\n",
        "\n",
        "# Create data asset in workspace\n",
        "ml_client.data.create_or_update(my_data)"
      ],
      "outputs": [
        {
          "output_type": "stream",
          "name": "stdout",
          "text": "    Survived  Pclass                                               Name  \\\n0      False       3                            Braund, Mr. Owen Harris   \n1       True       1  Cumings, Mrs. John Bradley (Florence Briggs Th...   \n2       True       3                             Heikkinen, Miss. Laina   \n3       True       1       Futrelle, Mrs. Jacques Heath (Lily May Peel)   \n4      False       3                           Allen, Mr. William Henry   \n5      False       1                            McCarthy, Mr. Timothy J   \n6      False       3                     Palsson, Master. Gosta Leonard   \n7       True       3  Johnson, Mrs. Oscar W (Elisabeth Vilhelmina Berg)   \n8       True       2                Nasser, Mrs. Nicholas (Adele Achem)   \n9       True       3                    Sandstrom, Miss. Marguerite Rut   \n10      True       1                           Bonnell, Miss. Elizabeth   \n11     False       3                     Saundercock, Mr. William Henry   \n12     False       3                        Andersson, Mr. Anders Johan   \n13     False       3               Vestrom, Miss. Hulda Amanda Adolfina   \n14      True       2                   Hewlett, Mrs. (Mary D Kingcome)    \n15     False       3                               Rice, Master. Eugene   \n16     False       3  Vander Planke, Mrs. Julius (Emelia Maria Vande...   \n17     False       2                               Fynney, Mr. Joseph J   \n18      True       2                              Beesley, Mr. Lawrence   \n19      True       3                        McGowan, Miss. Anna \"Annie\"   \n\n       Sex   Age  SibSp  Parch            Ticket     Fare Cabin Embarked  \n0     male  22.0      1      0         A/5 21171   7.2500  None        S  \n1   female  38.0      1      0          PC 17599  71.2833   C85        C  \n2   female  26.0      0      0  STON/O2. 3101282   7.9250  None        S  \n3   female  35.0      1      0            113803  53.1000  C123        S  \n4     male  35.0      0      0            373450   8.0500  None        S  \n5     male  54.0      0      0             17463  51.8625   E46        S  \n6     male   2.0      3      1            349909  21.0750  None        S  \n7   female  27.0      0      2            347742  11.1333  None        S  \n8   female  14.0      1      0            237736  30.0708  None        C  \n9   female   4.0      1      1           PP 9549  16.7000    G6        S  \n10  female  58.0      0      0            113783  26.5500  C103        S  \n11    male  20.0      0      0         A/5. 2151   8.0500  None        S  \n12    male  39.0      1      5            347082  31.2750  None        S  \n13  female  14.0      0      0            350406   7.8542  None        S  \n14  female  55.0      0      0            248706  16.0000  None        S  \n15    male   2.0      4      1            382652  29.1250  None        Q  \n16  female  31.0      1      0            345763  18.0000  None        S  \n17    male  35.0      0      0            239865  26.0000  None        S  \n18    male  34.0      0      0            248698  13.0000   D56        S  \n19  female  15.0      0      0            330923   8.0292  None        Q  \n"
        },
        {
          "output_type": "stream",
          "name": "stderr",
          "text": "\r\u001b[32mUploading titanic (0.0 MBs):   0%|          | 0/674 [00:00<?, ?it/s]\r\u001b[32mUploading titanic (0.0 MBs): 100%|██████████| 674/674 [00:00<00:00, 37824.44it/s]\n\u001b[39m\n\n"
        },
        {
          "output_type": "execute_result",
          "execution_count": 8,
          "data": {
            "text/plain": "Data({'skip_validation': False, 'mltable_schema_url': None, 'referenced_uris': ['wasbs://data@azuremlexampledata.blob.core.windows.net/titanic.csv'], 'type': 'mltable', 'is_anonymous': False, 'auto_increment_version': False, 'auto_delete_setting': None, 'name': 'income-data3', 'description': 'creating data asset using sdk v2 - mltable', 'tags': {}, 'properties': {}, 'print_as_yaml': True, 'id': '/subscriptions/3b57d2fe-08b1-4fe9-b535-f5c4387b9a66/resourceGroups/azureml-sdkv2-rg/providers/Microsoft.MachineLearningServices/workspaces/azureml-sdkv2-ws/data/income-data3/versions/1', 'Resource__source_path': None, 'base_path': '/mnt/batch/tasks/shared/LS_root/mounts/clusters/compute-instance01/code/Users/vijaygadhave199', 'creation_context': <azure.ai.ml.entities._system_data.SystemData object at 0x7f3c85327e20>, 'serialize': <msrest.serialization.Serializer object at 0x7f3c8411ebc0>, 'version': '1', 'latest_version': None, 'path': 'azureml://subscriptions/3b57d2fe-08b1-4fe9-b535-f5c4387b9a66/resourcegroups/azureml-sdkv2-rg/workspaces/azureml-sdkv2-ws/datastores/workspaceblobstore/paths/LocalUpload/65fb8046b2ee85b2ee437382ebb1dd1b/titanic/', 'datastore': None})"
          },
          "metadata": {}
        }
      ],
      "execution_count": 8,
      "metadata": {
        "jupyter": {
          "source_hidden": false,
          "outputs_hidden": false
        },
        "nteract": {
          "transient": {
            "deleting": false
          }
        },
        "gather": {
          "logged": 1712951765464
        }
      }
    },
    {
      "cell_type": "code",
      "source": [
        "# Consume the data asset\n",
        "\n",
        "import mltable\n",
        "from azure.ai.ml import MLClient\n",
        "from azure.identity import DefaultAzureCredential\n",
        "\n",
        "ml_client = MLClient.from_config(credential=DefaultAzureCredential())\n",
        "data_asset = ml_client.data.get(\"income-data3\", version=\"1\")\n",
        "\n",
        "tbl = mltable.load(data_asset.path)\n",
        "\n",
        "df = tbl.to_pandas_dataframe()\n",
        "df"
      ],
      "outputs": [
        {
          "output_type": "stream",
          "name": "stderr",
          "text": "Found the config file in: /config.json\n"
        },
        {
          "output_type": "execute_result",
          "execution_count": 9,
          "data": {
            "text/plain": "     Survived  Pclass                                               Name  \\\n0       False       3                            Braund, Mr. Owen Harris   \n1        True       1  Cumings, Mrs. John Bradley (Florence Briggs Th...   \n2        True       3                             Heikkinen, Miss. Laina   \n3        True       1       Futrelle, Mrs. Jacques Heath (Lily May Peel)   \n4       False       3                           Allen, Mr. William Henry   \n..        ...     ...                                                ...   \n709     False       3               Rice, Mrs. William (Margaret Norton)   \n710     False       2                              Montvila, Rev. Juozas   \n711      True       1                       Graham, Miss. Margaret Edith   \n712      True       1                              Behr, Mr. Karl Howell   \n713     False       3                                Dooley, Mr. Patrick   \n\n        Sex   Age  SibSp  Parch            Ticket     Fare Cabin Embarked  \n0      male  22.0      1      0         A/5 21171   7.2500  None        S  \n1    female  38.0      1      0          PC 17599  71.2833   C85        C  \n2    female  26.0      0      0  STON/O2. 3101282   7.9250  None        S  \n3    female  35.0      1      0            113803  53.1000  C123        S  \n4      male  35.0      0      0            373450   8.0500  None        S  \n..      ...   ...    ...    ...               ...      ...   ...      ...  \n709  female  39.0      0      5            382652  29.1250  None        Q  \n710    male  27.0      0      0            211536  13.0000  None        S  \n711  female  19.0      0      0            112053  30.0000   B42        S  \n712    male  26.0      0      0            111369  30.0000  C148        C  \n713    male  32.0      0      0            370376   7.7500  None        Q  \n\n[714 rows x 11 columns]",
            "text/html": "<div>\n<style scoped>\n    .dataframe tbody tr th:only-of-type {\n        vertical-align: middle;\n    }\n\n    .dataframe tbody tr th {\n        vertical-align: top;\n    }\n\n    .dataframe thead th {\n        text-align: right;\n    }\n</style>\n<table border=\"1\" class=\"dataframe\">\n  <thead>\n    <tr style=\"text-align: right;\">\n      <th></th>\n      <th>Survived</th>\n      <th>Pclass</th>\n      <th>Name</th>\n      <th>Sex</th>\n      <th>Age</th>\n      <th>SibSp</th>\n      <th>Parch</th>\n      <th>Ticket</th>\n      <th>Fare</th>\n      <th>Cabin</th>\n      <th>Embarked</th>\n    </tr>\n  </thead>\n  <tbody>\n    <tr>\n      <th>0</th>\n      <td>False</td>\n      <td>3</td>\n      <td>Braund, Mr. Owen Harris</td>\n      <td>male</td>\n      <td>22.0</td>\n      <td>1</td>\n      <td>0</td>\n      <td>A/5 21171</td>\n      <td>7.2500</td>\n      <td>None</td>\n      <td>S</td>\n    </tr>\n    <tr>\n      <th>1</th>\n      <td>True</td>\n      <td>1</td>\n      <td>Cumings, Mrs. John Bradley (Florence Briggs Th...</td>\n      <td>female</td>\n      <td>38.0</td>\n      <td>1</td>\n      <td>0</td>\n      <td>PC 17599</td>\n      <td>71.2833</td>\n      <td>C85</td>\n      <td>C</td>\n    </tr>\n    <tr>\n      <th>2</th>\n      <td>True</td>\n      <td>3</td>\n      <td>Heikkinen, Miss. Laina</td>\n      <td>female</td>\n      <td>26.0</td>\n      <td>0</td>\n      <td>0</td>\n      <td>STON/O2. 3101282</td>\n      <td>7.9250</td>\n      <td>None</td>\n      <td>S</td>\n    </tr>\n    <tr>\n      <th>3</th>\n      <td>True</td>\n      <td>1</td>\n      <td>Futrelle, Mrs. Jacques Heath (Lily May Peel)</td>\n      <td>female</td>\n      <td>35.0</td>\n      <td>1</td>\n      <td>0</td>\n      <td>113803</td>\n      <td>53.1000</td>\n      <td>C123</td>\n      <td>S</td>\n    </tr>\n    <tr>\n      <th>4</th>\n      <td>False</td>\n      <td>3</td>\n      <td>Allen, Mr. William Henry</td>\n      <td>male</td>\n      <td>35.0</td>\n      <td>0</td>\n      <td>0</td>\n      <td>373450</td>\n      <td>8.0500</td>\n      <td>None</td>\n      <td>S</td>\n    </tr>\n    <tr>\n      <th>...</th>\n      <td>...</td>\n      <td>...</td>\n      <td>...</td>\n      <td>...</td>\n      <td>...</td>\n      <td>...</td>\n      <td>...</td>\n      <td>...</td>\n      <td>...</td>\n      <td>...</td>\n      <td>...</td>\n    </tr>\n    <tr>\n      <th>709</th>\n      <td>False</td>\n      <td>3</td>\n      <td>Rice, Mrs. William (Margaret Norton)</td>\n      <td>female</td>\n      <td>39.0</td>\n      <td>0</td>\n      <td>5</td>\n      <td>382652</td>\n      <td>29.1250</td>\n      <td>None</td>\n      <td>Q</td>\n    </tr>\n    <tr>\n      <th>710</th>\n      <td>False</td>\n      <td>2</td>\n      <td>Montvila, Rev. Juozas</td>\n      <td>male</td>\n      <td>27.0</td>\n      <td>0</td>\n      <td>0</td>\n      <td>211536</td>\n      <td>13.0000</td>\n      <td>None</td>\n      <td>S</td>\n    </tr>\n    <tr>\n      <th>711</th>\n      <td>True</td>\n      <td>1</td>\n      <td>Graham, Miss. Margaret Edith</td>\n      <td>female</td>\n      <td>19.0</td>\n      <td>0</td>\n      <td>0</td>\n      <td>112053</td>\n      <td>30.0000</td>\n      <td>B42</td>\n      <td>S</td>\n    </tr>\n    <tr>\n      <th>712</th>\n      <td>True</td>\n      <td>1</td>\n      <td>Behr, Mr. Karl Howell</td>\n      <td>male</td>\n      <td>26.0</td>\n      <td>0</td>\n      <td>0</td>\n      <td>111369</td>\n      <td>30.0000</td>\n      <td>C148</td>\n      <td>C</td>\n    </tr>\n    <tr>\n      <th>713</th>\n      <td>False</td>\n      <td>3</td>\n      <td>Dooley, Mr. Patrick</td>\n      <td>male</td>\n      <td>32.0</td>\n      <td>0</td>\n      <td>0</td>\n      <td>370376</td>\n      <td>7.7500</td>\n      <td>None</td>\n      <td>Q</td>\n    </tr>\n  </tbody>\n</table>\n<p>714 rows × 11 columns</p>\n</div>"
          },
          "metadata": {}
        }
      ],
      "execution_count": 9,
      "metadata": {
        "jupyter": {
          "source_hidden": false,
          "outputs_hidden": false
        },
        "nteract": {
          "transient": {
            "deleting": false
          }
        },
        "gather": {
          "logged": 1712951806491
        }
      }
    },
    {
      "cell_type": "markdown",
      "source": [
        "# 4 - Create data asset from job output"
      ],
      "metadata": {
        "nteract": {
          "transient": {
            "deleting": false
          }
        }
      }
    },
    {
      "cell_type": "code",
      "source": [
        "from azure.ai.ml import command, Input, Output, MLClient\n",
        "from azure.ai.ml.constants import AssetTypes, InputOutputModes\n",
        "from azure.identity import DefaultAzureCredential\n",
        "\n",
        "# details of azure ML workspace\n",
        "subscription_id = \"3b57d2fe-08b1-4fe9-b535-f5c4387b9a66\"\n",
        "resource_group = \"azureml-sdkv2-rg\"\n",
        "workspace = \"azureml-sdkv2-ws\"\n",
        "\n",
        "# get a handle to the workspace\n",
        "ml_client = MLClient(DefaultAzureCredential(), subscription_id, resource_group, workspace)\n",
        "\n",
        "# Set the input and output URI paths for the data. Supported paths include:\n",
        "# local: `./<path>\n",
        "# Blob: wasbs://<container_name>@<account_name>.blob.core.windows.net/<path>\n",
        "# ADLS: abfss://<file_system>@<account_name>.dfs.core.windows.net/<path>\n",
        "# Datastore: azureml://datastores/<data_store_name>/paths/<path>\n",
        "# Data Asset: azureml:<my_data>:<version>\n",
        "# As an example, we set the input path to a file on a public blob container\n",
        "# As an example, we set the output path to a folder in the default datastore\n",
        "input_path = \"wasbs://data@azuremlexampledata.blob.core.windows.net/titanic.csv\"\n",
        "output_path = \"azureml://datastores/workspaceblobstore/paths/quickstart-output/titanic.csv\"\n",
        "\n",
        "\n",
        "# What type of data are you pointing to?\n",
        "# AssetTypes.URI_FILE (a specific file)\n",
        "# AssetTypes.URI_FOLDER (a folder)\n",
        "# AssetTypes.MLTABLE (a table)\n",
        "# The path we set above is a specific file\n",
        "data_type = AssetTypes.URI_FILE\n",
        "\n",
        "\n",
        "# Set the input mode. The most commonly-used modes:\n",
        "# InputOutputModes.RO_MOUNT\n",
        "# InputOutputModes.DOWNLOAD\n",
        "# Set the mode to Read Only (RO) to mount the data\n",
        "input_mode = InputOutputModes.RO_MOUNT\n",
        "\n",
        "\n",
        "# Set the output mode. The most commonly-used modes:\n",
        "# InputOutputModes.RW_MOUNT\n",
        "# InputOutputModes.UPLOAD\n",
        "# Set the mode to Read Write (RW) to mount the data\n",
        "output_mode = InputOutputModes.RW_MOUNT\n",
        "\n",
        "\n",
        "# Set a data asset name for the output\n",
        "data_asset_name = \"job_output_titanic_asset\"\n",
        "\n",
        "# Set the input and output for the job:\n",
        "inputs = {\n",
        "    \"input_data\": Input(type=data_type, path=input_path, mode=input_mode)\n",
        "}\n",
        "\n",
        "outputs = {\n",
        "    \"output_data\": Output(type=data_type, path=output_path, mode=output_mode, name = data_asset_name)\n",
        "}\n",
        "\n",
        "# This command job copies the data to your default Datastore\n",
        "job = command(\n",
        "    command=\"cp ${{inputs.input_data}} ${{outputs.output_data}}\",\n",
        "    inputs=inputs,\n",
        "    outputs=outputs,\n",
        "    environment=\"azureml://registries/azureml/environments/sklearn-1.1/versions/4\",\n",
        "    compute=\"cluster-01\",\n",
        ")\n",
        "\n",
        "# Submit the command\n",
        "ml_client.jobs.create_or_update(job)"
      ],
      "outputs": [
        {
          "output_type": "stream",
          "name": "stderr",
          "text": "Class AutoDeleteSettingSchema: This is an experimental class, and may change at any time. Please see https://aka.ms/azuremlexperimental for more information.\nClass AutoDeleteConditionSchema: This is an experimental class, and may change at any time. Please see https://aka.ms/azuremlexperimental for more information.\nClass BaseAutoDeleteSettingSchema: This is an experimental class, and may change at any time. Please see https://aka.ms/azuremlexperimental for more information.\nClass IntellectualPropertySchema: This is an experimental class, and may change at any time. Please see https://aka.ms/azuremlexperimental for more information.\nClass ProtectionLevelSchema: This is an experimental class, and may change at any time. Please see https://aka.ms/azuremlexperimental for more information.\nClass BaseIntellectualPropertySchema: This is an experimental class, and may change at any time. Please see https://aka.ms/azuremlexperimental for more information.\n"
        },
        {
          "output_type": "execute_result",
          "execution_count": 10,
          "data": {
            "text/plain": "Command({'parameters': {}, 'init': False, 'name': 'sincere_ghost_2tb43n6d10', 'type': 'command', 'status': 'Starting', 'log_files': None, 'description': None, 'tags': {}, 'properties': {'_azureml.ComputeTargetType': 'amlctrain', '_azureml.ClusterName': 'cluster-01'}, 'print_as_yaml': True, 'id': '/subscriptions/3b57d2fe-08b1-4fe9-b535-f5c4387b9a66/resourceGroups/azureml-sdkv2-rg/providers/Microsoft.MachineLearningServices/workspaces/azureml-sdkv2-ws/jobs/sincere_ghost_2tb43n6d10', 'Resource__source_path': None, 'base_path': '/mnt/batch/tasks/shared/LS_root/mounts/clusters/compute-instance01/code/Users/vijaygadhave199', 'creation_context': <azure.ai.ml.entities._system_data.SystemData object at 0x7f3c9ecdebf0>, 'serialize': <msrest.serialization.Serializer object at 0x7f3c8411c160>, 'allowed_keys': {}, 'key_restriction': False, 'logger': <Logger attr_dict (WARNING)>, 'display_name': 'sincere_ghost_2tb43n6d10', 'experiment_name': 'vijaygadhave199', 'compute': 'cluster-01', 'services': {'Tracking': {'endpoint': 'azureml://eastus.api.azureml.ms/mlflow/v1.0/subscriptions/3b57d2fe-08b1-4fe9-b535-f5c4387b9a66/resourceGroups/azureml-sdkv2-rg/providers/Microsoft.MachineLearningServices/workspaces/azureml-sdkv2-ws?', 'type': 'Tracking'}, 'Studio': {'endpoint': 'https://ml.azure.com/runs/sincere_ghost_2tb43n6d10?wsid=/subscriptions/3b57d2fe-08b1-4fe9-b535-f5c4387b9a66/resourcegroups/azureml-sdkv2-rg/workspaces/azureml-sdkv2-ws&tid=843e1e65-e875-4fbd-8ddc-ce696f3a551d', 'type': 'Studio'}}, 'comment': None, 'job_inputs': {'input_data': {'type': 'uri_file', 'path': 'wasbs://data@azuremlexampledata.blob.core.windows.net/titanic.csv', 'mode': 'ro_mount'}}, 'job_outputs': {'output_data': {'type': 'uri_file', 'name': 'job_output_titanic_asset', 'path': 'azureml://datastores/workspaceblobstore/paths/quickstart-output/titanic.csv', 'mode': 'rw_mount'}, 'default': {'type': 'uri_folder', 'path': 'azureml://datastores/workspaceartifactstore/ExperimentRun/dcid.sincere_ghost_2tb43n6d10', 'mode': 'rw_mount'}}, 'inputs': {'input_data': <azure.ai.ml.entities._job.pipeline._io.base.NodeInput object at 0x7f3c8411c040>}, 'outputs': {'output_data': <azure.ai.ml.entities._job.pipeline._io.base.NodeOutput object at 0x7f3c8411d780>, 'default': <azure.ai.ml.entities._job.pipeline._io.base.NodeOutput object at 0x7f3c8411d6c0>}, 'component': CommandComponent({'intellectual_property': None, 'auto_increment_version': True, 'source': 'REMOTE.WORKSPACE.JOB', 'is_anonymous': False, 'auto_delete_setting': None, 'name': 'sincere_ghost_2tb43n6d10', 'description': None, 'tags': {}, 'properties': {}, 'print_as_yaml': True, 'id': None, 'Resource__source_path': None, 'base_path': PosixPath('.'), 'creation_context': <azure.ai.ml.entities._system_data.SystemData object at 0x7f3c9ecdebf0>, 'serialize': <msrest.serialization.Serializer object at 0x7f3c8411f040>, 'command': 'cp ${{inputs.input_data}} ${{outputs.output_data}}', 'code': None, 'environment_variables': {}, 'environment': 'azureml://registries/azureml/environments/sklearn-1.1/versions/4', 'distribution': None, 'resources': None, 'queue_settings': None, 'version': None, 'latest_version': None, 'schema': None, 'type': 'command', 'display_name': 'sincere_ghost_2tb43n6d10', 'is_deterministic': True, 'inputs': {'input_data': {'type': 'uri_file', 'path': 'wasbs://data@azuremlexampledata.blob.core.windows.net/titanic.csv', 'mode': 'ro_mount'}}, 'outputs': {'output_data': {'type': 'uri_file', 'name': 'job_output_titanic_asset', 'path': 'azureml://datastores/workspaceblobstore/paths/quickstart-output/titanic.csv', 'mode': 'rw_mount'}, 'default': {'type': 'uri_folder', 'path': 'azureml://datastores/workspaceartifactstore/ExperimentRun/dcid.sincere_ghost_2tb43n6d10', 'mode': 'rw_mount'}}, 'yaml_str': None, 'other_parameter': {'status': 'Starting', 'parameters': {}}, 'additional_includes': [], 'CommandComponent__additional_includes_obj': None}), 'referenced_control_flow_node_instance_id': None, 'kwargs': {'services': {'Tracking': {'endpoint': 'azureml://eastus.api.azureml.ms/mlflow/v1.0/subscriptions/3b57d2fe-08b1-4fe9-b535-f5c4387b9a66/resourceGroups/azureml-sdkv2-rg/providers/Microsoft.MachineLearningServices/workspaces/azureml-sdkv2-ws?', 'type': 'Tracking'}, 'Studio': {'endpoint': 'https://ml.azure.com/runs/sincere_ghost_2tb43n6d10?wsid=/subscriptions/3b57d2fe-08b1-4fe9-b535-f5c4387b9a66/resourcegroups/azureml-sdkv2-rg/workspaces/azureml-sdkv2-ws&tid=843e1e65-e875-4fbd-8ddc-ce696f3a551d', 'type': 'Studio'}}, 'status': 'Starting', 'creation_context': <azure.ai.ml.entities._system_data.SystemData object at 0x7f3c9ecdebf0>}, 'instance_id': '1913fa37-4a8d-4e20-ac24-a26ffe3d01c5', 'source': 'BUILDER', 'validate_required_input_not_provided': True, 'limits': None, 'identity': None, 'distribution': None, 'environment_variables': {}, 'environment': 'azureml://registries/azureml/environments/sklearn-1.1/versions/4', 'resources': {'instance_count': 1, 'shm_size': '2g'}, 'queue_settings': None, 'swept': False})",
            "text/html": "<table style=\"width:100%\"><tr><th>Experiment</th><th>Name</th><th>Type</th><th>Status</th><th>Details Page</th></tr><tr><td>vijaygadhave199</td><td>sincere_ghost_2tb43n6d10</td><td>command</td><td>Starting</td><td><a href=\"https://ml.azure.com/runs/sincere_ghost_2tb43n6d10?wsid=/subscriptions/3b57d2fe-08b1-4fe9-b535-f5c4387b9a66/resourcegroups/azureml-sdkv2-rg/workspaces/azureml-sdkv2-ws&amp;tid=843e1e65-e875-4fbd-8ddc-ce696f3a551d\" target=\"_blank\" rel=\"noopener\">Link to Azure Machine Learning studio</a></td></tr></table>"
          },
          "metadata": {}
        }
      ],
      "execution_count": 10,
      "metadata": {
        "jupyter": {
          "source_hidden": false,
          "outputs_hidden": false
        },
        "nteract": {
          "transient": {
            "deleting": false
          }
        },
        "gather": {
          "logged": 1712954411854
        }
      }
    },
    {
      "cell_type": "markdown",
      "source": [
        "# 5 - Archive & Restore data asset"
      ],
      "metadata": {
        "nteract": {
          "transient": {
            "deleting": false
          }
        }
      }
    },
    {
      "cell_type": "code",
      "source": [
        "ml_client.data.archive(name=\"income-data1\")"
      ],
      "outputs": [],
      "execution_count": 11,
      "metadata": {
        "jupyter": {
          "source_hidden": false,
          "outputs_hidden": false
        },
        "nteract": {
          "transient": {
            "deleting": false
          }
        },
        "gather": {
          "logged": 1712956241425
        }
      }
    },
    {
      "cell_type": "code",
      "source": [
        "ml_client.data.archive(name=\"income-data2\", version=\"1\")"
      ],
      "outputs": [],
      "execution_count": 12,
      "metadata": {
        "jupyter": {
          "source_hidden": false,
          "outputs_hidden": false
        },
        "nteract": {
          "transient": {
            "deleting": false
          }
        },
        "gather": {
          "logged": 1712956342423
        }
      }
    },
    {
      "cell_type": "code",
      "source": [
        "ml_client.data.restore(name=\"income-data1\")\n"
      ],
      "outputs": [],
      "execution_count": 13,
      "metadata": {
        "jupyter": {
          "source_hidden": false,
          "outputs_hidden": false
        },
        "nteract": {
          "transient": {
            "deleting": false
          }
        },
        "gather": {
          "logged": 1712956382415
        }
      }
    },
    {
      "cell_type": "code",
      "source": [
        "ml_client.data.restore(name=\"income-data2\", version=\"1\")"
      ],
      "outputs": [],
      "execution_count": 14,
      "metadata": {
        "jupyter": {
          "source_hidden": false,
          "outputs_hidden": false
        },
        "nteract": {
          "transient": {
            "deleting": false
          }
        },
        "gather": {
          "logged": 1712956424455
        }
      }
    }
  ],
  "metadata": {
    "kernelspec": {
      "name": "python310-sdkv2",
      "language": "python",
      "display_name": "Python 3.10 - SDK v2"
    },
    "language_info": {
      "name": "python",
      "version": "3.10.11",
      "mimetype": "text/x-python",
      "codemirror_mode": {
        "name": "ipython",
        "version": 3
      },
      "pygments_lexer": "ipython3",
      "nbconvert_exporter": "python",
      "file_extension": ".py"
    },
    "microsoft": {
      "ms_spell_check": {
        "ms_spell_check_language": "en"
      }
    },
    "kernel_info": {
      "name": "python310-sdkv2"
    },
    "nteract": {
      "version": "nteract-front-end@1.0.0"
    }
  },
  "nbformat": 4,
  "nbformat_minor": 2
}